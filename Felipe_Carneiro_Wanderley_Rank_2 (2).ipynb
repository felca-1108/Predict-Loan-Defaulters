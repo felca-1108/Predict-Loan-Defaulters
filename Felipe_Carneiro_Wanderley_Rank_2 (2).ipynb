{
  "nbformat": 4,
  "nbformat_minor": 0,
  "metadata": {
    "colab": {
      "name": "Felipe_Carneiro_Wanderley_Rank_2.ipynb",
      "provenance": [],
      "collapsed_sections": []
    },
    "kernelspec": {
      "name": "python3",
      "display_name": "Python 3"
    },
    "language_info": {
      "name": "python"
    }
  },
  "cells": [
    {
      "cell_type": "markdown",
      "source": [
        "## Predict Loan Defaulters\n",
        "\n",
        "This project was built as a part of the Deloitte machine learning challenge: Predict Loan Defaulters. This solution achieved the 2(nd) place in the competition.\n",
        "\n",
        "The main goal of this competition is to predict if a person will be a loan defaulter or not. With the purpose to solve this problem, Deloitte in association with MachineHack made available a train dataset conatining 34 explanatory variables and one target variable (Loan Status).The challenge consists in a classification problem with imbalaced classes.\n",
        "\n",
        "In this circumstances, as all the people would have less than 50% of probability to be a defaulter, any model would predict only 0s. Metrics like accuracy score, precision, f1 score, recall and AUC wouldn't be effective for this problem. Because of this, the organizers chose a metric based on the probability of a person to be a defaulter or not. The metric chosen was the Log Loss metric."
      ],
      "metadata": {
        "id": "CuQMaZlTEKc7"
      }
    },
    {
      "cell_type": "code",
      "metadata": {
        "id": "SawnU7IfpEra"
      },
      "source": [
        "#1 Import the libraries\n",
        "import pandas as pd\n",
        "import numpy as np\n",
        "import matplotlib.pyplot as plt\n",
        "import seaborn as sns\n",
        "%matplotlib inline\n",
        "import warnings\n",
        "warnings.filterwarnings('ignore')"
      ],
      "execution_count": null,
      "outputs": []
    },
    {
      "cell_type": "code",
      "metadata": {
        "id": "jx_hDK5ZpwvN",
        "colab": {
          "base_uri": "https://localhost:8080/",
          "height": 409
        },
        "outputId": "0037e1e7-fd89-4394-b392-6b3cd3e555f2"
      },
      "source": [
        "#Loading the train dataset\n",
        "df=pd.read_csv('train.csv')\n",
        "df.head()"
      ],
      "execution_count": null,
      "outputs": [
        {
          "output_type": "execute_result",
          "data": {
            "text/html": [
              "\n",
              "  <div id=\"df-92b935d7-791d-427e-814f-4a1625a66321\">\n",
              "    <div class=\"colab-df-container\">\n",
              "      <div>\n",
              "<style scoped>\n",
              "    .dataframe tbody tr th:only-of-type {\n",
              "        vertical-align: middle;\n",
              "    }\n",
              "\n",
              "    .dataframe tbody tr th {\n",
              "        vertical-align: top;\n",
              "    }\n",
              "\n",
              "    .dataframe thead th {\n",
              "        text-align: right;\n",
              "    }\n",
              "</style>\n",
              "<table border=\"1\" class=\"dataframe\">\n",
              "  <thead>\n",
              "    <tr style=\"text-align: right;\">\n",
              "      <th></th>\n",
              "      <th>ID</th>\n",
              "      <th>Loan Amount</th>\n",
              "      <th>Funded Amount</th>\n",
              "      <th>Funded Amount Investor</th>\n",
              "      <th>Term</th>\n",
              "      <th>Batch Enrolled</th>\n",
              "      <th>Interest Rate</th>\n",
              "      <th>Grade</th>\n",
              "      <th>Sub Grade</th>\n",
              "      <th>Employment Duration</th>\n",
              "      <th>Home Ownership</th>\n",
              "      <th>Verification Status</th>\n",
              "      <th>Payment Plan</th>\n",
              "      <th>Loan Title</th>\n",
              "      <th>Debit to Income</th>\n",
              "      <th>Delinquency - two years</th>\n",
              "      <th>Inquires - six months</th>\n",
              "      <th>Open Account</th>\n",
              "      <th>Public Record</th>\n",
              "      <th>Revolving Balance</th>\n",
              "      <th>Revolving Utilities</th>\n",
              "      <th>Total Accounts</th>\n",
              "      <th>Initial List Status</th>\n",
              "      <th>Total Received Interest</th>\n",
              "      <th>Total Received Late Fee</th>\n",
              "      <th>Recoveries</th>\n",
              "      <th>Collection Recovery Fee</th>\n",
              "      <th>Collection 12 months Medical</th>\n",
              "      <th>Application Type</th>\n",
              "      <th>Last week Pay</th>\n",
              "      <th>Accounts Delinquent</th>\n",
              "      <th>Total Collection Amount</th>\n",
              "      <th>Total Current Balance</th>\n",
              "      <th>Total Revolving Credit Limit</th>\n",
              "      <th>Loan Status</th>\n",
              "    </tr>\n",
              "  </thead>\n",
              "  <tbody>\n",
              "    <tr>\n",
              "      <th>0</th>\n",
              "      <td>65087372</td>\n",
              "      <td>10000</td>\n",
              "      <td>32236</td>\n",
              "      <td>12329.36286</td>\n",
              "      <td>59</td>\n",
              "      <td>BAT2522922</td>\n",
              "      <td>11.135007</td>\n",
              "      <td>B</td>\n",
              "      <td>C4</td>\n",
              "      <td>MORTGAGE</td>\n",
              "      <td>176346.62670</td>\n",
              "      <td>Not Verified</td>\n",
              "      <td>n</td>\n",
              "      <td>Debt Consolidation</td>\n",
              "      <td>16.284758</td>\n",
              "      <td>1</td>\n",
              "      <td>0</td>\n",
              "      <td>13</td>\n",
              "      <td>0</td>\n",
              "      <td>24246</td>\n",
              "      <td>74.932551</td>\n",
              "      <td>7</td>\n",
              "      <td>w</td>\n",
              "      <td>2929.646315</td>\n",
              "      <td>0.102055</td>\n",
              "      <td>2.498291</td>\n",
              "      <td>0.793724</td>\n",
              "      <td>0</td>\n",
              "      <td>INDIVIDUAL</td>\n",
              "      <td>49</td>\n",
              "      <td>0</td>\n",
              "      <td>31</td>\n",
              "      <td>311301</td>\n",
              "      <td>6619</td>\n",
              "      <td>0</td>\n",
              "    </tr>\n",
              "    <tr>\n",
              "      <th>1</th>\n",
              "      <td>1450153</td>\n",
              "      <td>3609</td>\n",
              "      <td>11940</td>\n",
              "      <td>12191.99692</td>\n",
              "      <td>59</td>\n",
              "      <td>BAT1586599</td>\n",
              "      <td>12.237563</td>\n",
              "      <td>C</td>\n",
              "      <td>D3</td>\n",
              "      <td>RENT</td>\n",
              "      <td>39833.92100</td>\n",
              "      <td>Source Verified</td>\n",
              "      <td>n</td>\n",
              "      <td>Debt consolidation</td>\n",
              "      <td>15.412409</td>\n",
              "      <td>0</td>\n",
              "      <td>0</td>\n",
              "      <td>12</td>\n",
              "      <td>0</td>\n",
              "      <td>812</td>\n",
              "      <td>78.297186</td>\n",
              "      <td>13</td>\n",
              "      <td>f</td>\n",
              "      <td>772.769385</td>\n",
              "      <td>0.036181</td>\n",
              "      <td>2.377215</td>\n",
              "      <td>0.974821</td>\n",
              "      <td>0</td>\n",
              "      <td>INDIVIDUAL</td>\n",
              "      <td>109</td>\n",
              "      <td>0</td>\n",
              "      <td>53</td>\n",
              "      <td>182610</td>\n",
              "      <td>20885</td>\n",
              "      <td>0</td>\n",
              "    </tr>\n",
              "    <tr>\n",
              "      <th>2</th>\n",
              "      <td>1969101</td>\n",
              "      <td>28276</td>\n",
              "      <td>9311</td>\n",
              "      <td>21603.22455</td>\n",
              "      <td>59</td>\n",
              "      <td>BAT2136391</td>\n",
              "      <td>12.545884</td>\n",
              "      <td>F</td>\n",
              "      <td>D4</td>\n",
              "      <td>MORTGAGE</td>\n",
              "      <td>91506.69105</td>\n",
              "      <td>Source Verified</td>\n",
              "      <td>n</td>\n",
              "      <td>Debt Consolidation</td>\n",
              "      <td>28.137619</td>\n",
              "      <td>0</td>\n",
              "      <td>0</td>\n",
              "      <td>14</td>\n",
              "      <td>0</td>\n",
              "      <td>1843</td>\n",
              "      <td>2.073040</td>\n",
              "      <td>20</td>\n",
              "      <td>w</td>\n",
              "      <td>863.324396</td>\n",
              "      <td>18.778660</td>\n",
              "      <td>4.316277</td>\n",
              "      <td>1.020075</td>\n",
              "      <td>0</td>\n",
              "      <td>INDIVIDUAL</td>\n",
              "      <td>66</td>\n",
              "      <td>0</td>\n",
              "      <td>34</td>\n",
              "      <td>89801</td>\n",
              "      <td>26155</td>\n",
              "      <td>0</td>\n",
              "    </tr>\n",
              "    <tr>\n",
              "      <th>3</th>\n",
              "      <td>6651430</td>\n",
              "      <td>11170</td>\n",
              "      <td>6954</td>\n",
              "      <td>17877.15585</td>\n",
              "      <td>59</td>\n",
              "      <td>BAT2428731</td>\n",
              "      <td>16.731201</td>\n",
              "      <td>C</td>\n",
              "      <td>C3</td>\n",
              "      <td>MORTGAGE</td>\n",
              "      <td>108286.57590</td>\n",
              "      <td>Source Verified</td>\n",
              "      <td>n</td>\n",
              "      <td>Debt consolidation</td>\n",
              "      <td>18.043730</td>\n",
              "      <td>1</td>\n",
              "      <td>0</td>\n",
              "      <td>7</td>\n",
              "      <td>0</td>\n",
              "      <td>13819</td>\n",
              "      <td>67.467951</td>\n",
              "      <td>12</td>\n",
              "      <td>w</td>\n",
              "      <td>288.173196</td>\n",
              "      <td>0.044131</td>\n",
              "      <td>0.107020</td>\n",
              "      <td>0.749971</td>\n",
              "      <td>0</td>\n",
              "      <td>INDIVIDUAL</td>\n",
              "      <td>39</td>\n",
              "      <td>0</td>\n",
              "      <td>40</td>\n",
              "      <td>9189</td>\n",
              "      <td>60214</td>\n",
              "      <td>0</td>\n",
              "    </tr>\n",
              "    <tr>\n",
              "      <th>4</th>\n",
              "      <td>14354669</td>\n",
              "      <td>16890</td>\n",
              "      <td>13226</td>\n",
              "      <td>13539.92667</td>\n",
              "      <td>59</td>\n",
              "      <td>BAT5341619</td>\n",
              "      <td>15.008300</td>\n",
              "      <td>C</td>\n",
              "      <td>D4</td>\n",
              "      <td>MORTGAGE</td>\n",
              "      <td>44234.82545</td>\n",
              "      <td>Source Verified</td>\n",
              "      <td>n</td>\n",
              "      <td>Credit card refinancing</td>\n",
              "      <td>17.209886</td>\n",
              "      <td>1</td>\n",
              "      <td>3</td>\n",
              "      <td>13</td>\n",
              "      <td>1</td>\n",
              "      <td>1544</td>\n",
              "      <td>85.250761</td>\n",
              "      <td>22</td>\n",
              "      <td>w</td>\n",
              "      <td>129.239553</td>\n",
              "      <td>19.306646</td>\n",
              "      <td>1294.818751</td>\n",
              "      <td>0.368953</td>\n",
              "      <td>0</td>\n",
              "      <td>INDIVIDUAL</td>\n",
              "      <td>18</td>\n",
              "      <td>0</td>\n",
              "      <td>430</td>\n",
              "      <td>126029</td>\n",
              "      <td>22579</td>\n",
              "      <td>0</td>\n",
              "    </tr>\n",
              "  </tbody>\n",
              "</table>\n",
              "</div>\n",
              "      <button class=\"colab-df-convert\" onclick=\"convertToInteractive('df-92b935d7-791d-427e-814f-4a1625a66321')\"\n",
              "              title=\"Convert this dataframe to an interactive table.\"\n",
              "              style=\"display:none;\">\n",
              "        \n",
              "  <svg xmlns=\"http://www.w3.org/2000/svg\" height=\"24px\"viewBox=\"0 0 24 24\"\n",
              "       width=\"24px\">\n",
              "    <path d=\"M0 0h24v24H0V0z\" fill=\"none\"/>\n",
              "    <path d=\"M18.56 5.44l.94 2.06.94-2.06 2.06-.94-2.06-.94-.94-2.06-.94 2.06-2.06.94zm-11 1L8.5 8.5l.94-2.06 2.06-.94-2.06-.94L8.5 2.5l-.94 2.06-2.06.94zm10 10l.94 2.06.94-2.06 2.06-.94-2.06-.94-.94-2.06-.94 2.06-2.06.94z\"/><path d=\"M17.41 7.96l-1.37-1.37c-.4-.4-.92-.59-1.43-.59-.52 0-1.04.2-1.43.59L10.3 9.45l-7.72 7.72c-.78.78-.78 2.05 0 2.83L4 21.41c.39.39.9.59 1.41.59.51 0 1.02-.2 1.41-.59l7.78-7.78 2.81-2.81c.8-.78.8-2.07 0-2.86zM5.41 20L4 18.59l7.72-7.72 1.47 1.35L5.41 20z\"/>\n",
              "  </svg>\n",
              "      </button>\n",
              "      \n",
              "  <style>\n",
              "    .colab-df-container {\n",
              "      display:flex;\n",
              "      flex-wrap:wrap;\n",
              "      gap: 12px;\n",
              "    }\n",
              "\n",
              "    .colab-df-convert {\n",
              "      background-color: #E8F0FE;\n",
              "      border: none;\n",
              "      border-radius: 50%;\n",
              "      cursor: pointer;\n",
              "      display: none;\n",
              "      fill: #1967D2;\n",
              "      height: 32px;\n",
              "      padding: 0 0 0 0;\n",
              "      width: 32px;\n",
              "    }\n",
              "\n",
              "    .colab-df-convert:hover {\n",
              "      background-color: #E2EBFA;\n",
              "      box-shadow: 0px 1px 2px rgba(60, 64, 67, 0.3), 0px 1px 3px 1px rgba(60, 64, 67, 0.15);\n",
              "      fill: #174EA6;\n",
              "    }\n",
              "\n",
              "    [theme=dark] .colab-df-convert {\n",
              "      background-color: #3B4455;\n",
              "      fill: #D2E3FC;\n",
              "    }\n",
              "\n",
              "    [theme=dark] .colab-df-convert:hover {\n",
              "      background-color: #434B5C;\n",
              "      box-shadow: 0px 1px 3px 1px rgba(0, 0, 0, 0.15);\n",
              "      filter: drop-shadow(0px 1px 2px rgba(0, 0, 0, 0.3));\n",
              "      fill: #FFFFFF;\n",
              "    }\n",
              "  </style>\n",
              "\n",
              "      <script>\n",
              "        const buttonEl =\n",
              "          document.querySelector('#df-92b935d7-791d-427e-814f-4a1625a66321 button.colab-df-convert');\n",
              "        buttonEl.style.display =\n",
              "          google.colab.kernel.accessAllowed ? 'block' : 'none';\n",
              "\n",
              "        async function convertToInteractive(key) {\n",
              "          const element = document.querySelector('#df-92b935d7-791d-427e-814f-4a1625a66321');\n",
              "          const dataTable =\n",
              "            await google.colab.kernel.invokeFunction('convertToInteractive',\n",
              "                                                     [key], {});\n",
              "          if (!dataTable) return;\n",
              "\n",
              "          const docLinkHtml = 'Like what you see? Visit the ' +\n",
              "            '<a target=\"_blank\" href=https://colab.research.google.com/notebooks/data_table.ipynb>data table notebook</a>'\n",
              "            + ' to learn more about interactive tables.';\n",
              "          element.innerHTML = '';\n",
              "          dataTable['output_type'] = 'display_data';\n",
              "          await google.colab.output.renderOutput(dataTable, element);\n",
              "          const docLink = document.createElement('div');\n",
              "          docLink.innerHTML = docLinkHtml;\n",
              "          element.appendChild(docLink);\n",
              "        }\n",
              "      </script>\n",
              "    </div>\n",
              "  </div>\n",
              "  "
            ],
            "text/plain": [
              "         ID  Loan Amount  ...  Total Revolving Credit Limit  Loan Status\n",
              "0  65087372        10000  ...                          6619            0\n",
              "1   1450153         3609  ...                         20885            0\n",
              "2   1969101        28276  ...                         26155            0\n",
              "3   6651430        11170  ...                         60214            0\n",
              "4  14354669        16890  ...                         22579            0\n",
              "\n",
              "[5 rows x 35 columns]"
            ]
          },
          "metadata": {},
          "execution_count": 2
        }
      ]
    },
    {
      "cell_type": "code",
      "metadata": {
        "colab": {
          "base_uri": "https://localhost:8080/",
          "height": 409
        },
        "id": "3WtvXUZhYCc_",
        "outputId": "452c5e90-9964-42e1-c7c2-252a00f7571a"
      },
      "source": [
        "#Loading the test dataset\n",
        "test=pd.read_csv('test.csv')\n",
        "test.head()"
      ],
      "execution_count": null,
      "outputs": [
        {
          "output_type": "execute_result",
          "data": {
            "text/html": [
              "\n",
              "  <div id=\"df-0111f958-d508-4fe5-9a74-217b88be23f0\">\n",
              "    <div class=\"colab-df-container\">\n",
              "      <div>\n",
              "<style scoped>\n",
              "    .dataframe tbody tr th:only-of-type {\n",
              "        vertical-align: middle;\n",
              "    }\n",
              "\n",
              "    .dataframe tbody tr th {\n",
              "        vertical-align: top;\n",
              "    }\n",
              "\n",
              "    .dataframe thead th {\n",
              "        text-align: right;\n",
              "    }\n",
              "</style>\n",
              "<table border=\"1\" class=\"dataframe\">\n",
              "  <thead>\n",
              "    <tr style=\"text-align: right;\">\n",
              "      <th></th>\n",
              "      <th>ID</th>\n",
              "      <th>Loan Amount</th>\n",
              "      <th>Funded Amount</th>\n",
              "      <th>Funded Amount Investor</th>\n",
              "      <th>Term</th>\n",
              "      <th>Batch Enrolled</th>\n",
              "      <th>Interest Rate</th>\n",
              "      <th>Grade</th>\n",
              "      <th>Sub Grade</th>\n",
              "      <th>Employment Duration</th>\n",
              "      <th>Home Ownership</th>\n",
              "      <th>Verification Status</th>\n",
              "      <th>Payment Plan</th>\n",
              "      <th>Loan Title</th>\n",
              "      <th>Debit to Income</th>\n",
              "      <th>Delinquency - two years</th>\n",
              "      <th>Inquires - six months</th>\n",
              "      <th>Open Account</th>\n",
              "      <th>Public Record</th>\n",
              "      <th>Revolving Balance</th>\n",
              "      <th>Revolving Utilities</th>\n",
              "      <th>Total Accounts</th>\n",
              "      <th>Initial List Status</th>\n",
              "      <th>Total Received Interest</th>\n",
              "      <th>Total Received Late Fee</th>\n",
              "      <th>Recoveries</th>\n",
              "      <th>Collection Recovery Fee</th>\n",
              "      <th>Collection 12 months Medical</th>\n",
              "      <th>Application Type</th>\n",
              "      <th>Last week Pay</th>\n",
              "      <th>Accounts Delinquent</th>\n",
              "      <th>Total Collection Amount</th>\n",
              "      <th>Total Current Balance</th>\n",
              "      <th>Total Revolving Credit Limit</th>\n",
              "      <th>Loan Status</th>\n",
              "    </tr>\n",
              "  </thead>\n",
              "  <tbody>\n",
              "    <tr>\n",
              "      <th>0</th>\n",
              "      <td>56492997</td>\n",
              "      <td>17120</td>\n",
              "      <td>10365</td>\n",
              "      <td>16025.082690</td>\n",
              "      <td>59</td>\n",
              "      <td>BAT2575549</td>\n",
              "      <td>12.163926</td>\n",
              "      <td>A</td>\n",
              "      <td>D1</td>\n",
              "      <td>RENT</td>\n",
              "      <td>76468.82190</td>\n",
              "      <td>Source Verified</td>\n",
              "      <td>n</td>\n",
              "      <td>Home improvement</td>\n",
              "      <td>16.749219</td>\n",
              "      <td>1</td>\n",
              "      <td>0</td>\n",
              "      <td>12</td>\n",
              "      <td>1</td>\n",
              "      <td>3576</td>\n",
              "      <td>67.278287</td>\n",
              "      <td>5</td>\n",
              "      <td>f</td>\n",
              "      <td>4469.449851</td>\n",
              "      <td>0.088031</td>\n",
              "      <td>8.425776</td>\n",
              "      <td>0.731797</td>\n",
              "      <td>0</td>\n",
              "      <td>INDIVIDUAL</td>\n",
              "      <td>135</td>\n",
              "      <td>0</td>\n",
              "      <td>24</td>\n",
              "      <td>475442</td>\n",
              "      <td>4364</td>\n",
              "      <td>NaN</td>\n",
              "    </tr>\n",
              "    <tr>\n",
              "      <th>1</th>\n",
              "      <td>22540813</td>\n",
              "      <td>7133</td>\n",
              "      <td>11650</td>\n",
              "      <td>12615.795600</td>\n",
              "      <td>59</td>\n",
              "      <td>BAT2833642</td>\n",
              "      <td>6.564296</td>\n",
              "      <td>B</td>\n",
              "      <td>E3</td>\n",
              "      <td>MORTGAGE</td>\n",
              "      <td>38079.01344</td>\n",
              "      <td>Source Verified</td>\n",
              "      <td>n</td>\n",
              "      <td>Credit card refinancing</td>\n",
              "      <td>18.157975</td>\n",
              "      <td>0</td>\n",
              "      <td>0</td>\n",
              "      <td>11</td>\n",
              "      <td>0</td>\n",
              "      <td>1932</td>\n",
              "      <td>71.313157</td>\n",
              "      <td>21</td>\n",
              "      <td>w</td>\n",
              "      <td>993.907530</td>\n",
              "      <td>0.041237</td>\n",
              "      <td>6.157008</td>\n",
              "      <td>0.992918</td>\n",
              "      <td>0</td>\n",
              "      <td>INDIVIDUAL</td>\n",
              "      <td>56</td>\n",
              "      <td>0</td>\n",
              "      <td>1</td>\n",
              "      <td>72412</td>\n",
              "      <td>2573</td>\n",
              "      <td>NaN</td>\n",
              "    </tr>\n",
              "    <tr>\n",
              "      <th>2</th>\n",
              "      <td>9862181</td>\n",
              "      <td>25291</td>\n",
              "      <td>25825</td>\n",
              "      <td>11621.280830</td>\n",
              "      <td>59</td>\n",
              "      <td>BAT1761981</td>\n",
              "      <td>14.729900</td>\n",
              "      <td>A</td>\n",
              "      <td>C3</td>\n",
              "      <td>MORTGAGE</td>\n",
              "      <td>51275.93268</td>\n",
              "      <td>Source Verified</td>\n",
              "      <td>n</td>\n",
              "      <td>Debt consolidation</td>\n",
              "      <td>15.190011</td>\n",
              "      <td>0</td>\n",
              "      <td>0</td>\n",
              "      <td>22</td>\n",
              "      <td>0</td>\n",
              "      <td>598</td>\n",
              "      <td>50.883065</td>\n",
              "      <td>23</td>\n",
              "      <td>f</td>\n",
              "      <td>729.113379</td>\n",
              "      <td>0.021745</td>\n",
              "      <td>5.705077</td>\n",
              "      <td>0.281580</td>\n",
              "      <td>0</td>\n",
              "      <td>INDIVIDUAL</td>\n",
              "      <td>3</td>\n",
              "      <td>0</td>\n",
              "      <td>26</td>\n",
              "      <td>284825</td>\n",
              "      <td>19676</td>\n",
              "      <td>NaN</td>\n",
              "    </tr>\n",
              "    <tr>\n",
              "      <th>3</th>\n",
              "      <td>10097822</td>\n",
              "      <td>30781</td>\n",
              "      <td>9664</td>\n",
              "      <td>15375.823510</td>\n",
              "      <td>59</td>\n",
              "      <td>BAT5341619</td>\n",
              "      <td>10.523767</td>\n",
              "      <td>A</td>\n",
              "      <td>A2</td>\n",
              "      <td>RENT</td>\n",
              "      <td>68867.98965</td>\n",
              "      <td>Verified</td>\n",
              "      <td>n</td>\n",
              "      <td>Debt Consolidation</td>\n",
              "      <td>21.292550</td>\n",
              "      <td>0</td>\n",
              "      <td>0</td>\n",
              "      <td>11</td>\n",
              "      <td>0</td>\n",
              "      <td>5222</td>\n",
              "      <td>82.449083</td>\n",
              "      <td>28</td>\n",
              "      <td>w</td>\n",
              "      <td>715.867091</td>\n",
              "      <td>0.092398</td>\n",
              "      <td>2.469688</td>\n",
              "      <td>0.959162</td>\n",
              "      <td>0</td>\n",
              "      <td>INDIVIDUAL</td>\n",
              "      <td>21</td>\n",
              "      <td>0</td>\n",
              "      <td>32</td>\n",
              "      <td>40842</td>\n",
              "      <td>7226</td>\n",
              "      <td>NaN</td>\n",
              "    </tr>\n",
              "    <tr>\n",
              "      <th>4</th>\n",
              "      <td>47771809</td>\n",
              "      <td>8878</td>\n",
              "      <td>9419</td>\n",
              "      <td>7176.647582</td>\n",
              "      <td>58</td>\n",
              "      <td>BAT4694572</td>\n",
              "      <td>9.997013</td>\n",
              "      <td>C</td>\n",
              "      <td>B3</td>\n",
              "      <td>OWN</td>\n",
              "      <td>91556.85423</td>\n",
              "      <td>Verified</td>\n",
              "      <td>n</td>\n",
              "      <td>Debt consolidation</td>\n",
              "      <td>4.812117</td>\n",
              "      <td>0</td>\n",
              "      <td>0</td>\n",
              "      <td>11</td>\n",
              "      <td>0</td>\n",
              "      <td>553</td>\n",
              "      <td>49.075855</td>\n",
              "      <td>9</td>\n",
              "      <td>w</td>\n",
              "      <td>248.572854</td>\n",
              "      <td>0.010354</td>\n",
              "      <td>2.127835</td>\n",
              "      <td>0.402315</td>\n",
              "      <td>0</td>\n",
              "      <td>INDIVIDUAL</td>\n",
              "      <td>104</td>\n",
              "      <td>0</td>\n",
              "      <td>33</td>\n",
              "      <td>90825</td>\n",
              "      <td>26145</td>\n",
              "      <td>NaN</td>\n",
              "    </tr>\n",
              "  </tbody>\n",
              "</table>\n",
              "</div>\n",
              "      <button class=\"colab-df-convert\" onclick=\"convertToInteractive('df-0111f958-d508-4fe5-9a74-217b88be23f0')\"\n",
              "              title=\"Convert this dataframe to an interactive table.\"\n",
              "              style=\"display:none;\">\n",
              "        \n",
              "  <svg xmlns=\"http://www.w3.org/2000/svg\" height=\"24px\"viewBox=\"0 0 24 24\"\n",
              "       width=\"24px\">\n",
              "    <path d=\"M0 0h24v24H0V0z\" fill=\"none\"/>\n",
              "    <path d=\"M18.56 5.44l.94 2.06.94-2.06 2.06-.94-2.06-.94-.94-2.06-.94 2.06-2.06.94zm-11 1L8.5 8.5l.94-2.06 2.06-.94-2.06-.94L8.5 2.5l-.94 2.06-2.06.94zm10 10l.94 2.06.94-2.06 2.06-.94-2.06-.94-.94-2.06-.94 2.06-2.06.94z\"/><path d=\"M17.41 7.96l-1.37-1.37c-.4-.4-.92-.59-1.43-.59-.52 0-1.04.2-1.43.59L10.3 9.45l-7.72 7.72c-.78.78-.78 2.05 0 2.83L4 21.41c.39.39.9.59 1.41.59.51 0 1.02-.2 1.41-.59l7.78-7.78 2.81-2.81c.8-.78.8-2.07 0-2.86zM5.41 20L4 18.59l7.72-7.72 1.47 1.35L5.41 20z\"/>\n",
              "  </svg>\n",
              "      </button>\n",
              "      \n",
              "  <style>\n",
              "    .colab-df-container {\n",
              "      display:flex;\n",
              "      flex-wrap:wrap;\n",
              "      gap: 12px;\n",
              "    }\n",
              "\n",
              "    .colab-df-convert {\n",
              "      background-color: #E8F0FE;\n",
              "      border: none;\n",
              "      border-radius: 50%;\n",
              "      cursor: pointer;\n",
              "      display: none;\n",
              "      fill: #1967D2;\n",
              "      height: 32px;\n",
              "      padding: 0 0 0 0;\n",
              "      width: 32px;\n",
              "    }\n",
              "\n",
              "    .colab-df-convert:hover {\n",
              "      background-color: #E2EBFA;\n",
              "      box-shadow: 0px 1px 2px rgba(60, 64, 67, 0.3), 0px 1px 3px 1px rgba(60, 64, 67, 0.15);\n",
              "      fill: #174EA6;\n",
              "    }\n",
              "\n",
              "    [theme=dark] .colab-df-convert {\n",
              "      background-color: #3B4455;\n",
              "      fill: #D2E3FC;\n",
              "    }\n",
              "\n",
              "    [theme=dark] .colab-df-convert:hover {\n",
              "      background-color: #434B5C;\n",
              "      box-shadow: 0px 1px 3px 1px rgba(0, 0, 0, 0.15);\n",
              "      filter: drop-shadow(0px 1px 2px rgba(0, 0, 0, 0.3));\n",
              "      fill: #FFFFFF;\n",
              "    }\n",
              "  </style>\n",
              "\n",
              "      <script>\n",
              "        const buttonEl =\n",
              "          document.querySelector('#df-0111f958-d508-4fe5-9a74-217b88be23f0 button.colab-df-convert');\n",
              "        buttonEl.style.display =\n",
              "          google.colab.kernel.accessAllowed ? 'block' : 'none';\n",
              "\n",
              "        async function convertToInteractive(key) {\n",
              "          const element = document.querySelector('#df-0111f958-d508-4fe5-9a74-217b88be23f0');\n",
              "          const dataTable =\n",
              "            await google.colab.kernel.invokeFunction('convertToInteractive',\n",
              "                                                     [key], {});\n",
              "          if (!dataTable) return;\n",
              "\n",
              "          const docLinkHtml = 'Like what you see? Visit the ' +\n",
              "            '<a target=\"_blank\" href=https://colab.research.google.com/notebooks/data_table.ipynb>data table notebook</a>'\n",
              "            + ' to learn more about interactive tables.';\n",
              "          element.innerHTML = '';\n",
              "          dataTable['output_type'] = 'display_data';\n",
              "          await google.colab.output.renderOutput(dataTable, element);\n",
              "          const docLink = document.createElement('div');\n",
              "          docLink.innerHTML = docLinkHtml;\n",
              "          element.appendChild(docLink);\n",
              "        }\n",
              "      </script>\n",
              "    </div>\n",
              "  </div>\n",
              "  "
            ],
            "text/plain": [
              "         ID  Loan Amount  ...  Total Revolving Credit Limit  Loan Status\n",
              "0  56492997        17120  ...                          4364          NaN\n",
              "1  22540813         7133  ...                          2573          NaN\n",
              "2   9862181        25291  ...                         19676          NaN\n",
              "3  10097822        30781  ...                          7226          NaN\n",
              "4  47771809         8878  ...                         26145          NaN\n",
              "\n",
              "[5 rows x 35 columns]"
            ]
          },
          "metadata": {},
          "execution_count": 3
        }
      ]
    },
    {
      "cell_type": "code",
      "metadata": {
        "colab": {
          "base_uri": "https://localhost:8080/"
        },
        "id": "a-LMBhND7LER",
        "outputId": "39bea150-f998-4b05-e0ee-177783195199"
      },
      "source": [
        "# Analyzing the features. As we can see, there are no missing values on the train  and test datasets. \n",
        "\n",
        "df.info()"
      ],
      "execution_count": null,
      "outputs": [
        {
          "output_type": "stream",
          "name": "stdout",
          "text": [
            "<class 'pandas.core.frame.DataFrame'>\n",
            "RangeIndex: 67463 entries, 0 to 67462\n",
            "Data columns (total 35 columns):\n",
            " #   Column                        Non-Null Count  Dtype  \n",
            "---  ------                        --------------  -----  \n",
            " 0   ID                            67463 non-null  int64  \n",
            " 1   Loan Amount                   67463 non-null  int64  \n",
            " 2   Funded Amount                 67463 non-null  int64  \n",
            " 3   Funded Amount Investor        67463 non-null  float64\n",
            " 4   Term                          67463 non-null  int64  \n",
            " 5   Batch Enrolled                67463 non-null  object \n",
            " 6   Interest Rate                 67463 non-null  float64\n",
            " 7   Grade                         67463 non-null  object \n",
            " 8   Sub Grade                     67463 non-null  object \n",
            " 9   Employment Duration           67463 non-null  object \n",
            " 10  Home Ownership                67463 non-null  float64\n",
            " 11  Verification Status           67463 non-null  object \n",
            " 12  Payment Plan                  67463 non-null  object \n",
            " 13  Loan Title                    67463 non-null  object \n",
            " 14  Debit to Income               67463 non-null  float64\n",
            " 15  Delinquency - two years       67463 non-null  int64  \n",
            " 16  Inquires - six months         67463 non-null  int64  \n",
            " 17  Open Account                  67463 non-null  int64  \n",
            " 18  Public Record                 67463 non-null  int64  \n",
            " 19  Revolving Balance             67463 non-null  int64  \n",
            " 20  Revolving Utilities           67463 non-null  float64\n",
            " 21  Total Accounts                67463 non-null  int64  \n",
            " 22  Initial List Status           67463 non-null  object \n",
            " 23  Total Received Interest       67463 non-null  float64\n",
            " 24  Total Received Late Fee       67463 non-null  float64\n",
            " 25  Recoveries                    67463 non-null  float64\n",
            " 26  Collection Recovery Fee       67463 non-null  float64\n",
            " 27  Collection 12 months Medical  67463 non-null  int64  \n",
            " 28  Application Type              67463 non-null  object \n",
            " 29  Last week Pay                 67463 non-null  int64  \n",
            " 30  Accounts Delinquent           67463 non-null  int64  \n",
            " 31  Total Collection Amount       67463 non-null  int64  \n",
            " 32  Total Current Balance         67463 non-null  int64  \n",
            " 33  Total Revolving Credit Limit  67463 non-null  int64  \n",
            " 34  Loan Status                   67463 non-null  int64  \n",
            "dtypes: float64(9), int64(17), object(9)\n",
            "memory usage: 18.0+ MB\n"
          ]
        }
      ]
    },
    {
      "cell_type": "code",
      "source": [
        "test.info()"
      ],
      "metadata": {
        "colab": {
          "base_uri": "https://localhost:8080/"
        },
        "id": "tBiwxl3i6Slt",
        "outputId": "47e27b8f-15e5-43bb-fc59-6ac1a1d9ed3c"
      },
      "execution_count": null,
      "outputs": [
        {
          "output_type": "stream",
          "name": "stdout",
          "text": [
            "<class 'pandas.core.frame.DataFrame'>\n",
            "RangeIndex: 28913 entries, 0 to 28912\n",
            "Data columns (total 35 columns):\n",
            " #   Column                        Non-Null Count  Dtype  \n",
            "---  ------                        --------------  -----  \n",
            " 0   ID                            28913 non-null  int64  \n",
            " 1   Loan Amount                   28913 non-null  int64  \n",
            " 2   Funded Amount                 28913 non-null  int64  \n",
            " 3   Funded Amount Investor        28913 non-null  float64\n",
            " 4   Term                          28913 non-null  int64  \n",
            " 5   Batch Enrolled                28913 non-null  object \n",
            " 6   Interest Rate                 28913 non-null  float64\n",
            " 7   Grade                         28913 non-null  object \n",
            " 8   Sub Grade                     28913 non-null  object \n",
            " 9   Employment Duration           28913 non-null  object \n",
            " 10  Home Ownership                28913 non-null  float64\n",
            " 11  Verification Status           28913 non-null  object \n",
            " 12  Payment Plan                  28913 non-null  object \n",
            " 13  Loan Title                    28913 non-null  object \n",
            " 14  Debit to Income               28913 non-null  float64\n",
            " 15  Delinquency - two years       28913 non-null  int64  \n",
            " 16  Inquires - six months         28913 non-null  int64  \n",
            " 17  Open Account                  28913 non-null  int64  \n",
            " 18  Public Record                 28913 non-null  int64  \n",
            " 19  Revolving Balance             28913 non-null  int64  \n",
            " 20  Revolving Utilities           28913 non-null  float64\n",
            " 21  Total Accounts                28913 non-null  int64  \n",
            " 22  Initial List Status           28913 non-null  object \n",
            " 23  Total Received Interest       28913 non-null  float64\n",
            " 24  Total Received Late Fee       28913 non-null  float64\n",
            " 25  Recoveries                    28913 non-null  float64\n",
            " 26  Collection Recovery Fee       28913 non-null  float64\n",
            " 27  Collection 12 months Medical  28913 non-null  int64  \n",
            " 28  Application Type              28913 non-null  object \n",
            " 29  Last week Pay                 28913 non-null  int64  \n",
            " 30  Accounts Delinquent           28913 non-null  int64  \n",
            " 31  Total Collection Amount       28913 non-null  int64  \n",
            " 32  Total Current Balance         28913 non-null  int64  \n",
            " 33  Total Revolving Credit Limit  28913 non-null  int64  \n",
            " 34  Loan Status                   0 non-null      float64\n",
            "dtypes: float64(10), int64(16), object(9)\n",
            "memory usage: 7.7+ MB\n"
          ]
        }
      ]
    },
    {
      "cell_type": "code",
      "source": [
        "# Showing de descriptive statistics\n",
        "df.describe()"
      ],
      "metadata": {
        "colab": {
          "base_uri": "https://localhost:8080/",
          "height": 399
        },
        "id": "SGmqa2hSig_d",
        "outputId": "7c8479be-1c42-44ba-f66a-992329cd5f87"
      },
      "execution_count": null,
      "outputs": [
        {
          "output_type": "execute_result",
          "data": {
            "text/html": [
              "\n",
              "  <div id=\"df-7f1e7b9d-f3a9-4280-9f26-ef2dcf2044d0\">\n",
              "    <div class=\"colab-df-container\">\n",
              "      <div>\n",
              "<style scoped>\n",
              "    .dataframe tbody tr th:only-of-type {\n",
              "        vertical-align: middle;\n",
              "    }\n",
              "\n",
              "    .dataframe tbody tr th {\n",
              "        vertical-align: top;\n",
              "    }\n",
              "\n",
              "    .dataframe thead th {\n",
              "        text-align: right;\n",
              "    }\n",
              "</style>\n",
              "<table border=\"1\" class=\"dataframe\">\n",
              "  <thead>\n",
              "    <tr style=\"text-align: right;\">\n",
              "      <th></th>\n",
              "      <th>ID</th>\n",
              "      <th>Loan Amount</th>\n",
              "      <th>Funded Amount</th>\n",
              "      <th>Funded Amount Investor</th>\n",
              "      <th>Term</th>\n",
              "      <th>Interest Rate</th>\n",
              "      <th>Home Ownership</th>\n",
              "      <th>Debit to Income</th>\n",
              "      <th>Delinquency - two years</th>\n",
              "      <th>Inquires - six months</th>\n",
              "      <th>Open Account</th>\n",
              "      <th>Public Record</th>\n",
              "      <th>Revolving Balance</th>\n",
              "      <th>Revolving Utilities</th>\n",
              "      <th>Total Accounts</th>\n",
              "      <th>Total Received Interest</th>\n",
              "      <th>Total Received Late Fee</th>\n",
              "      <th>Recoveries</th>\n",
              "      <th>Collection Recovery Fee</th>\n",
              "      <th>Collection 12 months Medical</th>\n",
              "      <th>Last week Pay</th>\n",
              "      <th>Accounts Delinquent</th>\n",
              "      <th>Total Collection Amount</th>\n",
              "      <th>Total Current Balance</th>\n",
              "      <th>Total Revolving Credit Limit</th>\n",
              "      <th>Loan Status</th>\n",
              "    </tr>\n",
              "  </thead>\n",
              "  <tbody>\n",
              "    <tr>\n",
              "      <th>count</th>\n",
              "      <td>6.746300e+04</td>\n",
              "      <td>67463.000000</td>\n",
              "      <td>67463.000000</td>\n",
              "      <td>67463.000000</td>\n",
              "      <td>67463.000000</td>\n",
              "      <td>67463.000000</td>\n",
              "      <td>67463.000000</td>\n",
              "      <td>67463.000000</td>\n",
              "      <td>67463.000000</td>\n",
              "      <td>67463.000000</td>\n",
              "      <td>67463.000000</td>\n",
              "      <td>67463.000000</td>\n",
              "      <td>67463.000000</td>\n",
              "      <td>67463.000000</td>\n",
              "      <td>67463.000000</td>\n",
              "      <td>67463.000000</td>\n",
              "      <td>67463.000000</td>\n",
              "      <td>67463.000000</td>\n",
              "      <td>67463.000000</td>\n",
              "      <td>67463.000000</td>\n",
              "      <td>67463.000000</td>\n",
              "      <td>67463.0</td>\n",
              "      <td>67463.000000</td>\n",
              "      <td>6.746300e+04</td>\n",
              "      <td>67463.000000</td>\n",
              "      <td>67463.000000</td>\n",
              "    </tr>\n",
              "    <tr>\n",
              "      <th>mean</th>\n",
              "      <td>2.562761e+07</td>\n",
              "      <td>16848.902776</td>\n",
              "      <td>15770.599114</td>\n",
              "      <td>14621.799323</td>\n",
              "      <td>58.173814</td>\n",
              "      <td>11.846258</td>\n",
              "      <td>80541.502522</td>\n",
              "      <td>23.299241</td>\n",
              "      <td>0.327127</td>\n",
              "      <td>0.145754</td>\n",
              "      <td>14.266561</td>\n",
              "      <td>0.081437</td>\n",
              "      <td>7699.342425</td>\n",
              "      <td>52.889443</td>\n",
              "      <td>18.627929</td>\n",
              "      <td>2068.992542</td>\n",
              "      <td>1.143969</td>\n",
              "      <td>59.691578</td>\n",
              "      <td>1.125141</td>\n",
              "      <td>0.021301</td>\n",
              "      <td>71.163260</td>\n",
              "      <td>0.0</td>\n",
              "      <td>146.467990</td>\n",
              "      <td>1.595739e+05</td>\n",
              "      <td>23123.005544</td>\n",
              "      <td>0.092510</td>\n",
              "    </tr>\n",
              "    <tr>\n",
              "      <th>std</th>\n",
              "      <td>2.109155e+07</td>\n",
              "      <td>8367.865726</td>\n",
              "      <td>8150.992662</td>\n",
              "      <td>6785.345170</td>\n",
              "      <td>3.327441</td>\n",
              "      <td>3.718629</td>\n",
              "      <td>45029.120366</td>\n",
              "      <td>8.451824</td>\n",
              "      <td>0.800888</td>\n",
              "      <td>0.473291</td>\n",
              "      <td>6.225060</td>\n",
              "      <td>0.346606</td>\n",
              "      <td>7836.148190</td>\n",
              "      <td>22.539450</td>\n",
              "      <td>8.319246</td>\n",
              "      <td>2221.918745</td>\n",
              "      <td>5.244365</td>\n",
              "      <td>357.026346</td>\n",
              "      <td>3.489885</td>\n",
              "      <td>0.144385</td>\n",
              "      <td>43.315845</td>\n",
              "      <td>0.0</td>\n",
              "      <td>744.382233</td>\n",
              "      <td>1.390332e+05</td>\n",
              "      <td>20916.699999</td>\n",
              "      <td>0.289747</td>\n",
              "    </tr>\n",
              "    <tr>\n",
              "      <th>min</th>\n",
              "      <td>1.297933e+06</td>\n",
              "      <td>1014.000000</td>\n",
              "      <td>1014.000000</td>\n",
              "      <td>1114.590204</td>\n",
              "      <td>36.000000</td>\n",
              "      <td>5.320006</td>\n",
              "      <td>14573.537170</td>\n",
              "      <td>0.675299</td>\n",
              "      <td>0.000000</td>\n",
              "      <td>0.000000</td>\n",
              "      <td>2.000000</td>\n",
              "      <td>0.000000</td>\n",
              "      <td>0.000000</td>\n",
              "      <td>0.005172</td>\n",
              "      <td>4.000000</td>\n",
              "      <td>4.736746</td>\n",
              "      <td>0.000003</td>\n",
              "      <td>0.000036</td>\n",
              "      <td>0.000036</td>\n",
              "      <td>0.000000</td>\n",
              "      <td>0.000000</td>\n",
              "      <td>0.0</td>\n",
              "      <td>1.000000</td>\n",
              "      <td>6.170000e+02</td>\n",
              "      <td>1000.000000</td>\n",
              "      <td>0.000000</td>\n",
              "    </tr>\n",
              "    <tr>\n",
              "      <th>25%</th>\n",
              "      <td>6.570288e+06</td>\n",
              "      <td>10012.000000</td>\n",
              "      <td>9266.500000</td>\n",
              "      <td>9831.684984</td>\n",
              "      <td>58.000000</td>\n",
              "      <td>9.297147</td>\n",
              "      <td>51689.843335</td>\n",
              "      <td>16.756416</td>\n",
              "      <td>0.000000</td>\n",
              "      <td>0.000000</td>\n",
              "      <td>10.000000</td>\n",
              "      <td>0.000000</td>\n",
              "      <td>2557.000000</td>\n",
              "      <td>38.658825</td>\n",
              "      <td>13.000000</td>\n",
              "      <td>570.903814</td>\n",
              "      <td>0.021114</td>\n",
              "      <td>1.629818</td>\n",
              "      <td>0.476259</td>\n",
              "      <td>0.000000</td>\n",
              "      <td>35.000000</td>\n",
              "      <td>0.0</td>\n",
              "      <td>24.000000</td>\n",
              "      <td>5.037900e+04</td>\n",
              "      <td>8155.500000</td>\n",
              "      <td>0.000000</td>\n",
              "    </tr>\n",
              "    <tr>\n",
              "      <th>50%</th>\n",
              "      <td>1.791565e+07</td>\n",
              "      <td>16073.000000</td>\n",
              "      <td>13042.000000</td>\n",
              "      <td>12793.682170</td>\n",
              "      <td>59.000000</td>\n",
              "      <td>11.377696</td>\n",
              "      <td>69335.832680</td>\n",
              "      <td>22.656658</td>\n",
              "      <td>0.000000</td>\n",
              "      <td>0.000000</td>\n",
              "      <td>13.000000</td>\n",
              "      <td>0.000000</td>\n",
              "      <td>5516.000000</td>\n",
              "      <td>54.082334</td>\n",
              "      <td>18.000000</td>\n",
              "      <td>1330.842771</td>\n",
              "      <td>0.043398</td>\n",
              "      <td>3.344524</td>\n",
              "      <td>0.780141</td>\n",
              "      <td>0.000000</td>\n",
              "      <td>68.000000</td>\n",
              "      <td>0.0</td>\n",
              "      <td>36.000000</td>\n",
              "      <td>1.183690e+05</td>\n",
              "      <td>16733.000000</td>\n",
              "      <td>0.000000</td>\n",
              "    </tr>\n",
              "    <tr>\n",
              "      <th>75%</th>\n",
              "      <td>4.271521e+07</td>\n",
              "      <td>22106.000000</td>\n",
              "      <td>21793.000000</td>\n",
              "      <td>17807.594120</td>\n",
              "      <td>59.000000</td>\n",
              "      <td>14.193533</td>\n",
              "      <td>94623.322785</td>\n",
              "      <td>30.048400</td>\n",
              "      <td>0.000000</td>\n",
              "      <td>0.000000</td>\n",
              "      <td>16.000000</td>\n",
              "      <td>0.000000</td>\n",
              "      <td>10184.500000</td>\n",
              "      <td>69.177117</td>\n",
              "      <td>23.000000</td>\n",
              "      <td>2656.956837</td>\n",
              "      <td>0.071884</td>\n",
              "      <td>5.453727</td>\n",
              "      <td>1.070566</td>\n",
              "      <td>0.000000</td>\n",
              "      <td>105.000000</td>\n",
              "      <td>0.0</td>\n",
              "      <td>46.000000</td>\n",
              "      <td>2.283750e+05</td>\n",
              "      <td>32146.500000</td>\n",
              "      <td>0.000000</td>\n",
              "    </tr>\n",
              "    <tr>\n",
              "      <th>max</th>\n",
              "      <td>7.224578e+07</td>\n",
              "      <td>35000.000000</td>\n",
              "      <td>34999.000000</td>\n",
              "      <td>34999.746430</td>\n",
              "      <td>59.000000</td>\n",
              "      <td>27.182348</td>\n",
              "      <td>406561.536400</td>\n",
              "      <td>39.629862</td>\n",
              "      <td>8.000000</td>\n",
              "      <td>5.000000</td>\n",
              "      <td>37.000000</td>\n",
              "      <td>4.000000</td>\n",
              "      <td>116933.000000</td>\n",
              "      <td>100.880050</td>\n",
              "      <td>72.000000</td>\n",
              "      <td>14301.368310</td>\n",
              "      <td>42.618882</td>\n",
              "      <td>4354.467419</td>\n",
              "      <td>166.833000</td>\n",
              "      <td>1.000000</td>\n",
              "      <td>161.000000</td>\n",
              "      <td>0.0</td>\n",
              "      <td>16421.000000</td>\n",
              "      <td>1.177412e+06</td>\n",
              "      <td>201169.000000</td>\n",
              "      <td>1.000000</td>\n",
              "    </tr>\n",
              "  </tbody>\n",
              "</table>\n",
              "</div>\n",
              "      <button class=\"colab-df-convert\" onclick=\"convertToInteractive('df-7f1e7b9d-f3a9-4280-9f26-ef2dcf2044d0')\"\n",
              "              title=\"Convert this dataframe to an interactive table.\"\n",
              "              style=\"display:none;\">\n",
              "        \n",
              "  <svg xmlns=\"http://www.w3.org/2000/svg\" height=\"24px\"viewBox=\"0 0 24 24\"\n",
              "       width=\"24px\">\n",
              "    <path d=\"M0 0h24v24H0V0z\" fill=\"none\"/>\n",
              "    <path d=\"M18.56 5.44l.94 2.06.94-2.06 2.06-.94-2.06-.94-.94-2.06-.94 2.06-2.06.94zm-11 1L8.5 8.5l.94-2.06 2.06-.94-2.06-.94L8.5 2.5l-.94 2.06-2.06.94zm10 10l.94 2.06.94-2.06 2.06-.94-2.06-.94-.94-2.06-.94 2.06-2.06.94z\"/><path d=\"M17.41 7.96l-1.37-1.37c-.4-.4-.92-.59-1.43-.59-.52 0-1.04.2-1.43.59L10.3 9.45l-7.72 7.72c-.78.78-.78 2.05 0 2.83L4 21.41c.39.39.9.59 1.41.59.51 0 1.02-.2 1.41-.59l7.78-7.78 2.81-2.81c.8-.78.8-2.07 0-2.86zM5.41 20L4 18.59l7.72-7.72 1.47 1.35L5.41 20z\"/>\n",
              "  </svg>\n",
              "      </button>\n",
              "      \n",
              "  <style>\n",
              "    .colab-df-container {\n",
              "      display:flex;\n",
              "      flex-wrap:wrap;\n",
              "      gap: 12px;\n",
              "    }\n",
              "\n",
              "    .colab-df-convert {\n",
              "      background-color: #E8F0FE;\n",
              "      border: none;\n",
              "      border-radius: 50%;\n",
              "      cursor: pointer;\n",
              "      display: none;\n",
              "      fill: #1967D2;\n",
              "      height: 32px;\n",
              "      padding: 0 0 0 0;\n",
              "      width: 32px;\n",
              "    }\n",
              "\n",
              "    .colab-df-convert:hover {\n",
              "      background-color: #E2EBFA;\n",
              "      box-shadow: 0px 1px 2px rgba(60, 64, 67, 0.3), 0px 1px 3px 1px rgba(60, 64, 67, 0.15);\n",
              "      fill: #174EA6;\n",
              "    }\n",
              "\n",
              "    [theme=dark] .colab-df-convert {\n",
              "      background-color: #3B4455;\n",
              "      fill: #D2E3FC;\n",
              "    }\n",
              "\n",
              "    [theme=dark] .colab-df-convert:hover {\n",
              "      background-color: #434B5C;\n",
              "      box-shadow: 0px 1px 3px 1px rgba(0, 0, 0, 0.15);\n",
              "      filter: drop-shadow(0px 1px 2px rgba(0, 0, 0, 0.3));\n",
              "      fill: #FFFFFF;\n",
              "    }\n",
              "  </style>\n",
              "\n",
              "      <script>\n",
              "        const buttonEl =\n",
              "          document.querySelector('#df-7f1e7b9d-f3a9-4280-9f26-ef2dcf2044d0 button.colab-df-convert');\n",
              "        buttonEl.style.display =\n",
              "          google.colab.kernel.accessAllowed ? 'block' : 'none';\n",
              "\n",
              "        async function convertToInteractive(key) {\n",
              "          const element = document.querySelector('#df-7f1e7b9d-f3a9-4280-9f26-ef2dcf2044d0');\n",
              "          const dataTable =\n",
              "            await google.colab.kernel.invokeFunction('convertToInteractive',\n",
              "                                                     [key], {});\n",
              "          if (!dataTable) return;\n",
              "\n",
              "          const docLinkHtml = 'Like what you see? Visit the ' +\n",
              "            '<a target=\"_blank\" href=https://colab.research.google.com/notebooks/data_table.ipynb>data table notebook</a>'\n",
              "            + ' to learn more about interactive tables.';\n",
              "          element.innerHTML = '';\n",
              "          dataTable['output_type'] = 'display_data';\n",
              "          await google.colab.output.renderOutput(dataTable, element);\n",
              "          const docLink = document.createElement('div');\n",
              "          docLink.innerHTML = docLinkHtml;\n",
              "          element.appendChild(docLink);\n",
              "        }\n",
              "      </script>\n",
              "    </div>\n",
              "  </div>\n",
              "  "
            ],
            "text/plain": [
              "                 ID   Loan Amount  ...  Total Revolving Credit Limit   Loan Status\n",
              "count  6.746300e+04  67463.000000  ...                  67463.000000  67463.000000\n",
              "mean   2.562761e+07  16848.902776  ...                  23123.005544      0.092510\n",
              "std    2.109155e+07   8367.865726  ...                  20916.699999      0.289747\n",
              "min    1.297933e+06   1014.000000  ...                   1000.000000      0.000000\n",
              "25%    6.570288e+06  10012.000000  ...                   8155.500000      0.000000\n",
              "50%    1.791565e+07  16073.000000  ...                  16733.000000      0.000000\n",
              "75%    4.271521e+07  22106.000000  ...                  32146.500000      0.000000\n",
              "max    7.224578e+07  35000.000000  ...                 201169.000000      1.000000\n",
              "\n",
              "[8 rows x 26 columns]"
            ]
          },
          "metadata": {},
          "execution_count": 6
        }
      ]
    },
    {
      "cell_type": "code",
      "metadata": {
        "colab": {
          "base_uri": "https://localhost:8080/"
        },
        "id": "_HaDgno3p9SE",
        "outputId": "23ae4459-8685-4b4f-a040-3b2a927c2107"
      },
      "source": [
        "df.shape"
      ],
      "execution_count": null,
      "outputs": [
        {
          "output_type": "execute_result",
          "data": {
            "text/plain": [
              "(67463, 35)"
            ]
          },
          "metadata": {},
          "execution_count": 7
        }
      ]
    },
    {
      "cell_type": "markdown",
      "source": [
        "##  EDA and Data Prepocessing"
      ],
      "metadata": {
        "id": "B0vGsvluiAua"
      }
    },
    {
      "cell_type": "code",
      "metadata": {
        "colab": {
          "base_uri": "https://localhost:8080/"
        },
        "id": "wfv7OLdeqOe7",
        "outputId": "da3abdc5-92b5-41b0-da30-c6f0bdb14112"
      },
      "source": [
        "# Let's look at the proportion of the target classes. \n",
        "df['Loan Status'].value_counts()"
      ],
      "execution_count": null,
      "outputs": [
        {
          "output_type": "execute_result",
          "data": {
            "text/plain": [
              "0    61222\n",
              "1     6241\n",
              "Name: Loan Status, dtype: int64"
            ]
          },
          "metadata": {},
          "execution_count": 8
        }
      ]
    },
    {
      "cell_type": "code",
      "source": [
        "# As we can see in the countplot below, the classes are imbalanced.\n",
        "sns.countplot(df['Loan Status'])"
      ],
      "metadata": {
        "colab": {
          "base_uri": "https://localhost:8080/",
          "height": 296
        },
        "id": "5-5O79lXLRNE",
        "outputId": "f239a218-28fd-48f5-81ac-bdfeff8dbf90"
      },
      "execution_count": null,
      "outputs": [
        {
          "output_type": "execute_result",
          "data": {
            "text/plain": [
              "<matplotlib.axes._subplots.AxesSubplot at 0x7f42ab07fad0>"
            ]
          },
          "metadata": {},
          "execution_count": 9
        },
        {
          "output_type": "display_data",
          "data": {
            "image/png": "[encoded data removed]",
            "text/plain": [
              "<Figure size 432x288 with 1 Axes>"
            ]
          },
          "metadata": {
            "needs_background": "light"
          }
        }
      ]
    },
    {
      "cell_type": "markdown",
      "source": [
        "Let's take a look at the features that bring no information to our problem. As we can see, there are 67463 different values for ID, the same quantity of rows we have in the train dataset. We are going to exclude the ID column."
      ],
      "metadata": {
        "id": "i-ibZasvMYiz"
      }
    },
    {
      "cell_type": "code",
      "metadata": {
        "colab": {
          "base_uri": "https://localhost:8080/"
        },
        "id": "_ocDIZrkqdmo",
        "outputId": "c12ca5d9-ba8e-47df-8c27-855f2751dd31"
      },
      "source": [
        "\n",
        "df['ID'].nunique()"
      ],
      "execution_count": null,
      "outputs": [
        {
          "output_type": "execute_result",
          "data": {
            "text/plain": [
              "67463"
            ]
          },
          "metadata": {},
          "execution_count": 10
        }
      ]
    },
    {
      "cell_type": "code",
      "metadata": {
        "id": "_5w_jW-Kq3CR"
      },
      "source": [
        "df.drop('ID', axis=1, inplace=True)\n",
        "test.drop('ID', axis=1, inplace=True)"
      ],
      "execution_count": null,
      "outputs": []
    },
    {
      "cell_type": "markdown",
      "source": [
        "Now we can see if we have duplicates."
      ],
      "metadata": {
        "id": "yx7Zh9FwNzHe"
      }
    },
    {
      "cell_type": "code",
      "source": [
        "df.duplicated().sum(), test.duplicated().sum()"
      ],
      "metadata": {
        "colab": {
          "base_uri": "https://localhost:8080/"
        },
        "id": "7lbm9nLgN3U8",
        "outputId": "346a15dc-bbe4-44e4-fa9f-44d12040c537"
      },
      "execution_count": null,
      "outputs": [
        {
          "output_type": "execute_result",
          "data": {
            "text/plain": [
              "(0, 0)"
            ]
          },
          "metadata": {},
          "execution_count": 12
        }
      ]
    },
    {
      "cell_type": "markdown",
      "source": [
        "We have already seen if the train and test dataset have missing values or duplicates. Now we are going to treat the categorical features, in a way that they can be used in our model."
      ],
      "metadata": {
        "id": "u_LkcXlfOpGF"
      }
    },
    {
      "cell_type": "code",
      "source": [
        "#These are the categorical features.\n",
        "df.select_dtypes(include=['object']).columns"
      ],
      "metadata": {
        "colab": {
          "base_uri": "https://localhost:8080/"
        },
        "id": "ExLDYoIlOayr",
        "outputId": "0dec1cea-ee1c-4e11-c1af-4c6a5bea3cde"
      },
      "execution_count": null,
      "outputs": [
        {
          "output_type": "execute_result",
          "data": {
            "text/plain": [
              "Index(['Batch Enrolled', 'Grade', 'Sub Grade', 'Employment Duration',\n",
              "       'Verification Status', 'Payment Plan', 'Loan Title',\n",
              "       'Initial List Status', 'Application Type'],\n",
              "      dtype='object')"
            ]
          },
          "metadata": {},
          "execution_count": 13
        }
      ]
    },
    {
      "cell_type": "markdown",
      "source": [
        "We have 9 categorical features to analyze. There are lots of possibilities to treat this features. We can quote: one hot encoding, label encoding, target encoding, we can exclude the feature if it's not an informative... \n",
        "\n",
        "As you are going to see, for most of the features I used ordinal encoding by calculating the percentage of defaulters for each class and ordering these. In other features I used the label encoder from SKLearn.\n",
        "\n",
        "I tried to use the target encoding, but the model became overfitted, and the Log Loss metric for validation data got worse. One hot encoding also did not bring good results for the model.\n",
        "\n",
        "\n",
        "Below we have the list of the categorical features:\n",
        " - Batch Enrolled\n",
        " - Grade\n",
        " - Sub Grade\n",
        " - Employment Duration\n",
        " - Verification Status\n",
        " - Payment Plan\n",
        " - Loan Title\n",
        " - Initial List Status\n",
        " - Application Type\n",
        "\n",
        "  "
      ],
      "metadata": {
        "id": "Hd521qtdP0YD"
      }
    },
    {
      "cell_type": "markdown",
      "source": [
        "* Batch Enrolled"
      ],
      "metadata": {
        "id": "Me_iV7lqQ9PG"
      }
    },
    {
      "cell_type": "code",
      "metadata": {
        "colab": {
          "base_uri": "https://localhost:8080/"
        },
        "id": "7R0dJSLOHsj6",
        "outputId": "2ea47d74-d1e3-4167-c591-a0742884c012"
      },
      "source": [
        "# We have 41 unique values.\n",
        "df['Batch Enrolled'].nunique(), test['Batch Enrolled'].nunique()"
      ],
      "execution_count": null,
      "outputs": [
        {
          "output_type": "execute_result",
          "data": {
            "text/plain": [
              "(41, 41)"
            ]
          },
          "metadata": {},
          "execution_count": 14
        }
      ]
    },
    {
      "cell_type": "code",
      "source": [
        "#As we can assume in this cell and in the above, all the classes in train and test are the same.\n",
        "df[df['Batch Enrolled'].isin(test['Batch Enrolled'].unique())]['Batch Enrolled'].nunique()"
      ],
      "metadata": {
        "colab": {
          "base_uri": "https://localhost:8080/"
        },
        "id": "trXMJTV7l-zF",
        "outputId": "55ec888a-4c4c-4b17-ee9e-622824ca5817"
      },
      "execution_count": null,
      "outputs": [
        {
          "output_type": "execute_result",
          "data": {
            "text/plain": [
              "41"
            ]
          },
          "metadata": {},
          "execution_count": 15
        }
      ]
    },
    {
      "cell_type": "code",
      "metadata": {
        "id": "vERXAx_7Hsna"
      },
      "source": [
        "# We are going to make a dataframe containing the % of defaulters for each batch. Note that this  kind of dataframe will be useful for other features.\n",
        "count_Batch_Enrolled=df.groupby('Batch Enrolled').count().sort_values(by='Loan Status',ascending=False).reset_index()[['Batch Enrolled','Grade']]\n",
        "sum_Batch_Enrolled=df.groupby('Batch Enrolled').sum().sort_values(by='Loan Status',ascending=False).reset_index()[['Batch Enrolled','Loan Status']]\n",
        "countsum_Batch_Enrolled=pd.merge(count_Batch_Enrolled,sum_Batch_Enrolled, how='inner', on='Batch Enrolled')\n",
        "countsum_Batch_Enrolled['Batch_Enrolled%']=countsum_Batch_Enrolled['Loan Status']/countsum_Batch_Enrolled['Grade']"
      ],
      "execution_count": null,
      "outputs": []
    },
    {
      "cell_type": "code",
      "source": [
        "# The Batch_Enrolled% shows the % os defaulters for each batch.\n",
        "countsum_Batch_Enrolled.head(10)[['Batch Enrolled', 'Batch_Enrolled%']]"
      ],
      "metadata": {
        "colab": {
          "base_uri": "https://localhost:8080/",
          "height": 363
        },
        "id": "3bPURCfzTnJ3",
        "outputId": "21a7678c-e6fc-4038-d14e-19d5a6c24023"
      },
      "execution_count": null,
      "outputs": [
        {
          "output_type": "execute_result",
          "data": {
            "text/html": [
              "\n",
              "  <div id=\"df-4e955b6e-b90b-4d5d-aa3c-9b1b485cab77\">\n",
              "    <div class=\"colab-df-container\">\n",
              "      <div>\n",
              "<style scoped>\n",
              "    .dataframe tbody tr th:only-of-type {\n",
              "        vertical-align: middle;\n",
              "    }\n",
              "\n",
              "    .dataframe tbody tr th {\n",
              "        vertical-align: top;\n",
              "    }\n",
              "\n",
              "    .dataframe thead th {\n",
              "        text-align: right;\n",
              "    }\n",
              "</style>\n",
              "<table border=\"1\" class=\"dataframe\">\n",
              "  <thead>\n",
              "    <tr style=\"text-align: right;\">\n",
              "      <th></th>\n",
              "      <th>Batch Enrolled</th>\n",
              "      <th>Batch_Enrolled%</th>\n",
              "    </tr>\n",
              "  </thead>\n",
              "  <tbody>\n",
              "    <tr>\n",
              "      <th>0</th>\n",
              "      <td>BAT3873588</td>\n",
              "      <td>0.093767</td>\n",
              "    </tr>\n",
              "    <tr>\n",
              "      <th>1</th>\n",
              "      <td>BAT1586599</td>\n",
              "      <td>0.105029</td>\n",
              "    </tr>\n",
              "    <tr>\n",
              "      <th>2</th>\n",
              "      <td>BAT1104812</td>\n",
              "      <td>0.099800</td>\n",
              "    </tr>\n",
              "    <tr>\n",
              "      <th>3</th>\n",
              "      <td>BAT2252229</td>\n",
              "      <td>0.093078</td>\n",
              "    </tr>\n",
              "    <tr>\n",
              "      <th>4</th>\n",
              "      <td>BAT2803411</td>\n",
              "      <td>0.088247</td>\n",
              "    </tr>\n",
              "    <tr>\n",
              "      <th>5</th>\n",
              "      <td>BAT1780517</td>\n",
              "      <td>0.099459</td>\n",
              "    </tr>\n",
              "    <tr>\n",
              "      <th>6</th>\n",
              "      <td>BAT1184694</td>\n",
              "      <td>0.083551</td>\n",
              "    </tr>\n",
              "    <tr>\n",
              "      <th>7</th>\n",
              "      <td>BAT2078974</td>\n",
              "      <td>0.091266</td>\n",
              "    </tr>\n",
              "    <tr>\n",
              "      <th>8</th>\n",
              "      <td>BAT2575549</td>\n",
              "      <td>0.094373</td>\n",
              "    </tr>\n",
              "    <tr>\n",
              "      <th>9</th>\n",
              "      <td>BAT4694572</td>\n",
              "      <td>0.096085</td>\n",
              "    </tr>\n",
              "  </tbody>\n",
              "</table>\n",
              "</div>\n",
              "      <button class=\"colab-df-convert\" onclick=\"convertToInteractive('df-4e955b6e-b90b-4d5d-aa3c-9b1b485cab77')\"\n",
              "              title=\"Convert this dataframe to an interactive table.\"\n",
              "              style=\"display:none;\">\n",
              "        \n",
              "  <svg xmlns=\"http://www.w3.org/2000/svg\" height=\"24px\"viewBox=\"0 0 24 24\"\n",
              "       width=\"24px\">\n",
              "    <path d=\"M0 0h24v24H0V0z\" fill=\"none\"/>\n",
              "    <path d=\"M18.56 5.44l.94 2.06.94-2.06 2.06-.94-2.06-.94-.94-2.06-.94 2.06-2.06.94zm-11 1L8.5 8.5l.94-2.06 2.06-.94-2.06-.94L8.5 2.5l-.94 2.06-2.06.94zm10 10l.94 2.06.94-2.06 2.06-.94-2.06-.94-.94-2.06-.94 2.06-2.06.94z\"/><path d=\"M17.41 7.96l-1.37-1.37c-.4-.4-.92-.59-1.43-.59-.52 0-1.04.2-1.43.59L10.3 9.45l-7.72 7.72c-.78.78-.78 2.05 0 2.83L4 21.41c.39.39.9.59 1.41.59.51 0 1.02-.2 1.41-.59l7.78-7.78 2.81-2.81c.8-.78.8-2.07 0-2.86zM5.41 20L4 18.59l7.72-7.72 1.47 1.35L5.41 20z\"/>\n",
              "  </svg>\n",
              "      </button>\n",
              "      \n",
              "  <style>\n",
              "    .colab-df-container {\n",
              "      display:flex;\n",
              "      flex-wrap:wrap;\n",
              "      gap: 12px;\n",
              "    }\n",
              "\n",
              "    .colab-df-convert {\n",
              "      background-color: #E8F0FE;\n",
              "      border: none;\n",
              "      border-radius: 50%;\n",
              "      cursor: pointer;\n",
              "      display: none;\n",
              "      fill: #1967D2;\n",
              "      height: 32px;\n",
              "      padding: 0 0 0 0;\n",
              "      width: 32px;\n",
              "    }\n",
              "\n",
              "    .colab-df-convert:hover {\n",
              "      background-color: #E2EBFA;\n",
              "      box-shadow: 0px 1px 2px rgba(60, 64, 67, 0.3), 0px 1px 3px 1px rgba(60, 64, 67, 0.15);\n",
              "      fill: #174EA6;\n",
              "    }\n",
              "\n",
              "    [theme=dark] .colab-df-convert {\n",
              "      background-color: #3B4455;\n",
              "      fill: #D2E3FC;\n",
              "    }\n",
              "\n",
              "    [theme=dark] .colab-df-convert:hover {\n",
              "      background-color: #434B5C;\n",
              "      box-shadow: 0px 1px 3px 1px rgba(0, 0, 0, 0.15);\n",
              "      filter: drop-shadow(0px 1px 2px rgba(0, 0, 0, 0.3));\n",
              "      fill: #FFFFFF;\n",
              "    }\n",
              "  </style>\n",
              "\n",
              "      <script>\n",
              "        const buttonEl =\n",
              "          document.querySelector('#df-4e955b6e-b90b-4d5d-aa3c-9b1b485cab77 button.colab-df-convert');\n",
              "        buttonEl.style.display =\n",
              "          google.colab.kernel.accessAllowed ? 'block' : 'none';\n",
              "\n",
              "        async function convertToInteractive(key) {\n",
              "          const element = document.querySelector('#df-4e955b6e-b90b-4d5d-aa3c-9b1b485cab77');\n",
              "          const dataTable =\n",
              "            await google.colab.kernel.invokeFunction('convertToInteractive',\n",
              "                                                     [key], {});\n",
              "          if (!dataTable) return;\n",
              "\n",
              "          const docLinkHtml = 'Like what you see? Visit the ' +\n",
              "            '<a target=\"_blank\" href=https://colab.research.google.com/notebooks/data_table.ipynb>data table notebook</a>'\n",
              "            + ' to learn more about interactive tables.';\n",
              "          element.innerHTML = '';\n",
              "          dataTable['output_type'] = 'display_data';\n",
              "          await google.colab.output.renderOutput(dataTable, element);\n",
              "          const docLink = document.createElement('div');\n",
              "          docLink.innerHTML = docLinkHtml;\n",
              "          element.appendChild(docLink);\n",
              "        }\n",
              "      </script>\n",
              "    </div>\n",
              "  </div>\n",
              "  "
            ],
            "text/plain": [
              "  Batch Enrolled  Batch_Enrolled%\n",
              "0     BAT3873588         0.093767\n",
              "1     BAT1586599         0.105029\n",
              "2     BAT1104812         0.099800\n",
              "3     BAT2252229         0.093078\n",
              "4     BAT2803411         0.088247\n",
              "5     BAT1780517         0.099459\n",
              "6     BAT1184694         0.083551\n",
              "7     BAT2078974         0.091266\n",
              "8     BAT2575549         0.094373\n",
              "9     BAT4694572         0.096085"
            ]
          },
          "metadata": {},
          "execution_count": 17
        }
      ]
    },
    {
      "cell_type": "code",
      "metadata": {
        "colab": {
          "base_uri": "https://localhost:8080/"
        },
        "id": "p0oO9cSiQw6O",
        "outputId": "bc9fcf63-9901-4c8a-f836-36aa928f35a6"
      },
      "source": [
        "# I'm using the describe function to take a look in the descriptive statistics. We can notice that the range of loan defaulters is from 7,8% to 12,5%.\n",
        "#We are going to split the Batch Enrolled in 4 classes, 0 being the ones that have less probability to default and 4 the ones who have the most probability.\n",
        "countsum_Batch_Enrolled['Batch_Enrolled%'].describe() \n"
      ],
      "execution_count": null,
      "outputs": [
        {
          "output_type": "execute_result",
          "data": {
            "text/plain": [
              "count    41.000000\n",
              "mean      0.092908\n",
              "std       0.008739\n",
              "min       0.078297\n",
              "25%       0.086559\n",
              "50%       0.093750\n",
              "75%       0.096956\n",
              "max       0.125000\n",
              "Name: Batch_Enrolled%, dtype: float64"
            ]
          },
          "metadata": {},
          "execution_count": 18
        }
      ]
    },
    {
      "cell_type": "code",
      "metadata": {
        "id": "6dkAR2tSQw-S"
      },
      "source": [
        "countsum_Batch_Enrolled['Classe_Batch_Enrolled']=0\n",
        "countsum_Batch_Enrolled.loc[countsum_Batch_Enrolled['Batch_Enrolled%']<0.08997275, 'Classe_Batch_Enrolled']=0\n",
        "countsum_Batch_Enrolled.loc[(countsum_Batch_Enrolled['Batch_Enrolled%']>=0.08997275)&(countsum_Batch_Enrolled['Batch_Enrolled%']<0.1016485), 'Classe_Batch_Enrolled']=1\n",
        "countsum_Batch_Enrolled.loc[(countsum_Batch_Enrolled['Batch_Enrolled%']>=0.1016485)&(countsum_Batch_Enrolled['Batch_Enrolled%']<0.11332425), 'Classe_Batch_Enrolled']=2\n",
        "countsum_Batch_Enrolled.loc[countsum_Batch_Enrolled['Batch_Enrolled%']>=0.11332425, 'Classe_Batch_Enrolled']=3"
      ],
      "execution_count": null,
      "outputs": []
    },
    {
      "cell_type": "code",
      "metadata": {
        "id": "sQXcBGB5TD9S"
      },
      "source": [
        "countsum_Batch_Enrolled=countsum_Batch_Enrolled[['Batch Enrolled', 'Classe_Batch_Enrolled']]"
      ],
      "execution_count": null,
      "outputs": []
    },
    {
      "cell_type": "code",
      "metadata": {
        "id": "XH6XJbgHTEQT"
      },
      "source": [
        "#Let's merge the Countsum Batch_Enrolled with the df. Then we are going to exclude the original feature.\n",
        "\n",
        "df=pd.merge(df, countsum_Batch_Enrolled, how='inner', on='Batch Enrolled')\n",
        "test=pd.merge(test, countsum_Batch_Enrolled,  how='left', on='Batch Enrolled')"
      ],
      "execution_count": null,
      "outputs": []
    },
    {
      "cell_type": "code",
      "metadata": {
        "id": "uW1id_bOTES4"
      },
      "source": [
        "# Droping the original feature.\n",
        "df.drop('Batch Enrolled', axis=1, inplace=True)\n",
        "test.drop('Batch Enrolled', axis=1, inplace=True)"
      ],
      "execution_count": null,
      "outputs": []
    },
    {
      "cell_type": "code",
      "metadata": {
        "colab": {
          "base_uri": "https://localhost:8080/"
        },
        "id": "SwjwLxiuTEVd",
        "outputId": "cded652e-fe92-4908-c6ab-22fae6e1dd69"
      },
      "source": [
        "#Checking if the transformation worked.\n",
        "test['Classe_Batch_Enrolled'].value_counts(), df['Classe_Batch_Enrolled'].value_counts()\n"
      ],
      "execution_count": null,
      "outputs": [
        {
          "output_type": "execute_result",
          "data": {
            "text/plain": [
              "(1    16952\n",
              " 0     9765\n",
              " 2     2091\n",
              " 3      105\n",
              " Name: Classe_Batch_Enrolled, dtype: int64, 1    39806\n",
              " 0    22483\n",
              " 2     4878\n",
              " 3      296\n",
              " Name: Classe_Batch_Enrolled, dtype: int64)"
            ]
          },
          "metadata": {},
          "execution_count": 23
        }
      ]
    },
    {
      "cell_type": "code",
      "source": [
        "# The barplot shows the mean and the standard deviation. As we can see, when the numer of the class get higher, the percentage os loan deafulters increase.\n",
        "sns.barplot(x='Classe_Batch_Enrolled', y='Loan Status', data =df)"
      ],
      "metadata": {
        "colab": {
          "base_uri": "https://localhost:8080/",
          "height": 297
        },
        "id": "SDRUdcC9nzx1",
        "outputId": "112a5969-0a92-4a7a-d1bc-8c4dcd3f77d8"
      },
      "execution_count": null,
      "outputs": [
        {
          "output_type": "execute_result",
          "data": {
            "text/plain": [
              "<matplotlib.axes._subplots.AxesSubplot at 0x7f42aa817c90>"
            ]
          },
          "metadata": {},
          "execution_count": 24
        },
        {
          "output_type": "display_data",
          "data": {
            "image/png": "[encoded data removed]",
            "text/plain": [
              "<Figure size 432x288 with 1 Axes>"
            ]
          },
          "metadata": {
            "needs_background": "light"
          }
        }
      ]
    },
    {
      "cell_type": "markdown",
      "source": [
        "* Grade"
      ],
      "metadata": {
        "id": "Qkk3vVttV74r"
      }
    },
    {
      "cell_type": "code",
      "metadata": {
        "id": "5tyrYDPBXuyA"
      },
      "source": [
        "# We are going to do the same analysys that we did with Batch_Enrolled."
      ],
      "execution_count": null,
      "outputs": []
    },
    {
      "cell_type": "code",
      "metadata": {
        "id": "2MXwpBguXu1K"
      },
      "source": [
        "count_grade=df.groupby('Grade').count().reset_index()[['Grade', 'Loan Amount']]\n",
        "sum_grade=df.groupby('Grade').sum().reset_index()[['Grade', 'Loan Status']]\n",
        "countsum_grade=pd.merge(count_grade,sum_grade, how='inner',on='Grade')\n",
        "countsum_grade['gradepercent']=countsum_grade['Loan Status']/countsum_grade['Loan Amount']"
      ],
      "execution_count": null,
      "outputs": []
    },
    {
      "cell_type": "code",
      "metadata": {
        "colab": {
          "base_uri": "https://localhost:8080/",
          "height": 269
        },
        "id": "Z63PAlToXu9z",
        "outputId": "c4fa0c7e-9dca-490b-a9ea-5209bcefd877"
      },
      "source": [
        "#We can clearly see that Grade is correlated with Loan Status, but is not that linear. This way, we are goig to split it in less classes. \n",
        "#Classe 0: A, B e C\n",
        "#Classe 1: D, E\n",
        "#Classe 2: F,G\n",
        "countsum_grade[['Grade','gradepercent']]\n"
      ],
      "execution_count": null,
      "outputs": [
        {
          "output_type": "execute_result",
          "data": {
            "text/html": [
              "\n",
              "  <div id=\"df-cd56dc8a-bbb7-4461-a299-d0e78709bec7\">\n",
              "    <div class=\"colab-df-container\">\n",
              "      <div>\n",
              "<style scoped>\n",
              "    .dataframe tbody tr th:only-of-type {\n",
              "        vertical-align: middle;\n",
              "    }\n",
              "\n",
              "    .dataframe tbody tr th {\n",
              "        vertical-align: top;\n",
              "    }\n",
              "\n",
              "    .dataframe thead th {\n",
              "        text-align: right;\n",
              "    }\n",
              "</style>\n",
              "<table border=\"1\" class=\"dataframe\">\n",
              "  <thead>\n",
              "    <tr style=\"text-align: right;\">\n",
              "      <th></th>\n",
              "      <th>Grade</th>\n",
              "      <th>gradepercent</th>\n",
              "    </tr>\n",
              "  </thead>\n",
              "  <tbody>\n",
              "    <tr>\n",
              "      <th>0</th>\n",
              "      <td>A</td>\n",
              "      <td>0.091248</td>\n",
              "    </tr>\n",
              "    <tr>\n",
              "      <th>1</th>\n",
              "      <td>B</td>\n",
              "      <td>0.087237</td>\n",
              "    </tr>\n",
              "    <tr>\n",
              "      <th>2</th>\n",
              "      <td>C</td>\n",
              "      <td>0.093896</td>\n",
              "    </tr>\n",
              "    <tr>\n",
              "      <th>3</th>\n",
              "      <td>D</td>\n",
              "      <td>0.096380</td>\n",
              "    </tr>\n",
              "    <tr>\n",
              "      <th>4</th>\n",
              "      <td>E</td>\n",
              "      <td>0.095873</td>\n",
              "    </tr>\n",
              "    <tr>\n",
              "      <th>5</th>\n",
              "      <td>F</td>\n",
              "      <td>0.103740</td>\n",
              "    </tr>\n",
              "    <tr>\n",
              "      <th>6</th>\n",
              "      <td>G</td>\n",
              "      <td>0.106349</td>\n",
              "    </tr>\n",
              "  </tbody>\n",
              "</table>\n",
              "</div>\n",
              "      <button class=\"colab-df-convert\" onclick=\"convertToInteractive('df-cd56dc8a-bbb7-4461-a299-d0e78709bec7')\"\n",
              "              title=\"Convert this dataframe to an interactive table.\"\n",
              "              style=\"display:none;\">\n",
              "        \n",
              "  <svg xmlns=\"http://www.w3.org/2000/svg\" height=\"24px\"viewBox=\"0 0 24 24\"\n",
              "       width=\"24px\">\n",
              "    <path d=\"M0 0h24v24H0V0z\" fill=\"none\"/>\n",
              "    <path d=\"M18.56 5.44l.94 2.06.94-2.06 2.06-.94-2.06-.94-.94-2.06-.94 2.06-2.06.94zm-11 1L8.5 8.5l.94-2.06 2.06-.94-2.06-.94L8.5 2.5l-.94 2.06-2.06.94zm10 10l.94 2.06.94-2.06 2.06-.94-2.06-.94-.94-2.06-.94 2.06-2.06.94z\"/><path d=\"M17.41 7.96l-1.37-1.37c-.4-.4-.92-.59-1.43-.59-.52 0-1.04.2-1.43.59L10.3 9.45l-7.72 7.72c-.78.78-.78 2.05 0 2.83L4 21.41c.39.39.9.59 1.41.59.51 0 1.02-.2 1.41-.59l7.78-7.78 2.81-2.81c.8-.78.8-2.07 0-2.86zM5.41 20L4 18.59l7.72-7.72 1.47 1.35L5.41 20z\"/>\n",
              "  </svg>\n",
              "      </button>\n",
              "      \n",
              "  <style>\n",
              "    .colab-df-container {\n",
              "      display:flex;\n",
              "      flex-wrap:wrap;\n",
              "      gap: 12px;\n",
              "    }\n",
              "\n",
              "    .colab-df-convert {\n",
              "      background-color: #E8F0FE;\n",
              "      border: none;\n",
              "      border-radius: 50%;\n",
              "      cursor: pointer;\n",
              "      display: none;\n",
              "      fill: #1967D2;\n",
              "      height: 32px;\n",
              "      padding: 0 0 0 0;\n",
              "      width: 32px;\n",
              "    }\n",
              "\n",
              "    .colab-df-convert:hover {\n",
              "      background-color: #E2EBFA;\n",
              "      box-shadow: 0px 1px 2px rgba(60, 64, 67, 0.3), 0px 1px 3px 1px rgba(60, 64, 67, 0.15);\n",
              "      fill: #174EA6;\n",
              "    }\n",
              "\n",
              "    [theme=dark] .colab-df-convert {\n",
              "      background-color: #3B4455;\n",
              "      fill: #D2E3FC;\n",
              "    }\n",
              "\n",
              "    [theme=dark] .colab-df-convert:hover {\n",
              "      background-color: #434B5C;\n",
              "      box-shadow: 0px 1px 3px 1px rgba(0, 0, 0, 0.15);\n",
              "      filter: drop-shadow(0px 1px 2px rgba(0, 0, 0, 0.3));\n",
              "      fill: #FFFFFF;\n",
              "    }\n",
              "  </style>\n",
              "\n",
              "      <script>\n",
              "        const buttonEl =\n",
              "          document.querySelector('#df-cd56dc8a-bbb7-4461-a299-d0e78709bec7 button.colab-df-convert');\n",
              "        buttonEl.style.display =\n",
              "          google.colab.kernel.accessAllowed ? 'block' : 'none';\n",
              "\n",
              "        async function convertToInteractive(key) {\n",
              "          const element = document.querySelector('#df-cd56dc8a-bbb7-4461-a299-d0e78709bec7');\n",
              "          const dataTable =\n",
              "            await google.colab.kernel.invokeFunction('convertToInteractive',\n",
              "                                                     [key], {});\n",
              "          if (!dataTable) return;\n",
              "\n",
              "          const docLinkHtml = 'Like what you see? Visit the ' +\n",
              "            '<a target=\"_blank\" href=https://colab.research.google.com/notebooks/data_table.ipynb>data table notebook</a>'\n",
              "            + ' to learn more about interactive tables.';\n",
              "          element.innerHTML = '';\n",
              "          dataTable['output_type'] = 'display_data';\n",
              "          await google.colab.output.renderOutput(dataTable, element);\n",
              "          const docLink = document.createElement('div');\n",
              "          docLink.innerHTML = docLinkHtml;\n",
              "          element.appendChild(docLink);\n",
              "        }\n",
              "      </script>\n",
              "    </div>\n",
              "  </div>\n",
              "  "
            ],
            "text/plain": [
              "  Grade  gradepercent\n",
              "0     A      0.091248\n",
              "1     B      0.087237\n",
              "2     C      0.093896\n",
              "3     D      0.096380\n",
              "4     E      0.095873\n",
              "5     F      0.103740\n",
              "6     G      0.106349"
            ]
          },
          "metadata": {},
          "execution_count": 27
        }
      ]
    },
    {
      "cell_type": "markdown",
      "source": [
        "Before making the feature engeneering with Grade, we need to understand the relations between Grade and Sub Grade. \n",
        "\n",
        "We can see in the cell below that the classes of Sub Grade are common in all of the classes of Grade. This way we can do the analysis of each feature in a separate way."
      ],
      "metadata": {
        "id": "y08hpg5HwuBL"
      }
    },
    {
      "cell_type": "code",
      "metadata": {
        "colab": {
          "base_uri": "https://localhost:8080/"
        },
        "id": "xYS8XbQtXvAR",
        "outputId": "1569a01d-c2ca-4ea1-f7f4-bb99c78e6dc6"
      },
      "source": [
        "df.loc[df['Grade']=='A','Sub Grade'].nunique(), df.loc[df['Grade']=='B','Sub Grade'].nunique(), df.loc[df['Grade']=='C','Sub Grade'].nunique(), df.loc[df['Grade']=='D','Sub Grade'].nunique(), df.loc[df['Grade']=='E','Sub Grade'].nunique(), df.loc[df['Grade']=='F','Sub Grade'].nunique(), df.loc[df['Grade']=='G','Sub Grade'].nunique()\n",
        "\n",
        "\n",
        "\n"
      ],
      "execution_count": null,
      "outputs": [
        {
          "output_type": "execute_result",
          "data": {
            "text/plain": [
              "(35, 35, 35, 35, 35, 35, 34)"
            ]
          },
          "metadata": {},
          "execution_count": 28
        }
      ]
    },
    {
      "cell_type": "code",
      "metadata": {
        "id": "1zgv0s9UXvC6"
      },
      "source": [
        "df['Classe_Grade']=0\n",
        "df.loc[(df['Grade']=='A')|(df['Grade']=='B')|(df['Grade']=='C'),'Classe_Grade']=0\n",
        "df.loc[(df['Grade']=='D')|(df['Grade']=='E'),'Classe_Grade']=1\n",
        "df.loc[(df['Grade']=='F')|(df['Grade']=='G'),'Classe_Grade']=2"
      ],
      "execution_count": null,
      "outputs": []
    },
    {
      "cell_type": "code",
      "metadata": {
        "id": "7HmcVjNFJZAd"
      },
      "source": [
        "test['Classe_Grade']=0\n",
        "test.loc[(test['Grade']=='A')|(test['Grade']=='B')|(test['Grade']=='C'),'Classe_Grade']=0\n",
        "test.loc[(test['Grade']=='D')|(test['Grade']=='E'),'Classe_Grade']=1\n",
        "test.loc[(test['Grade']=='F')|(test['Grade']=='G'),'Classe_Grade']=2"
      ],
      "execution_count": null,
      "outputs": []
    },
    {
      "cell_type": "code",
      "metadata": {
        "id": "z4XOf2d9XvFD"
      },
      "source": [
        "df.drop('Grade', axis=1, inplace=True)\n",
        "test.drop('Grade', axis=1, inplace=True)\n"
      ],
      "execution_count": null,
      "outputs": []
    },
    {
      "cell_type": "code",
      "source": [
        "# As we did with the Batch Enrolled, let's show the barplot.\n",
        "sns.barplot(x='Classe_Grade', y='Loan Status', data =df)"
      ],
      "metadata": {
        "colab": {
          "base_uri": "https://localhost:8080/",
          "height": 299
        },
        "id": "eG46w3cfr_l0",
        "outputId": "eaf89690-e853-4df1-815d-797a53948f20"
      },
      "execution_count": null,
      "outputs": [
        {
          "output_type": "execute_result",
          "data": {
            "text/plain": [
              "<matplotlib.axes._subplots.AxesSubplot at 0x7f42aa817550>"
            ]
          },
          "metadata": {},
          "execution_count": 32
        },
        {
          "output_type": "display_data",
          "data": {
            "image/png": "[encoded data removed]",
            "text/plain": [
              "<Figure size 432x288 with 1 Axes>"
            ]
          },
          "metadata": {
            "needs_background": "light"
          }
        }
      ]
    },
    {
      "cell_type": "markdown",
      "source": [
        "- Sub Grade"
      ],
      "metadata": {
        "id": "T5tnrqT4yPUx"
      }
    },
    {
      "cell_type": "code",
      "source": [
        "# We are going to do the same analysys with the feature Sub Grade."
      ],
      "metadata": {
        "id": "sCv-0pYRyosx"
      },
      "execution_count": null,
      "outputs": []
    },
    {
      "cell_type": "code",
      "metadata": {
        "colab": {
          "base_uri": "https://localhost:8080/"
        },
        "id": "9fAhnP_QKjvx",
        "outputId": "9da1fe25-f2e3-4585-c85e-fb77aff4a6c5"
      },
      "source": [
        "df['Sub Grade'].nunique()"
      ],
      "execution_count": null,
      "outputs": [
        {
          "output_type": "execute_result",
          "data": {
            "text/plain": [
              "35"
            ]
          },
          "metadata": {},
          "execution_count": 34
        }
      ]
    },
    {
      "cell_type": "code",
      "metadata": {
        "id": "c6pKVzNpLbVJ"
      },
      "source": [
        "count_subgrade=df.groupby('Sub Grade').count().reset_index()[['Sub Grade', 'Loan Amount']]\n",
        "sum_subgrade=df.groupby('Sub Grade').sum().reset_index()[['Sub Grade', 'Loan Status']]\n",
        "countsum_subgrade=pd.merge(count_subgrade,sum_subgrade, how='inner',on='Sub Grade')\n",
        "countsum_subgrade['subgradepercent']=countsum_subgrade['Loan Status']/countsum_subgrade['Loan Amount']"
      ],
      "execution_count": null,
      "outputs": []
    },
    {
      "cell_type": "code",
      "metadata": {
        "colab": {
          "base_uri": "https://localhost:8080/",
          "height": 1000
        },
        "id": "OIiC9qw9PU5v",
        "outputId": "9c881538-6a87-44a4-d491-2f672e8792d0"
      },
      "source": [
        "# Looking at the DF below, we can't assume that there is a correlation between the Sub Grade and the Loan Status.\n",
        "countsum_subgrade[['Sub Grade', 'subgradepercent']]"
      ],
      "execution_count": null,
      "outputs": [
        {
          "output_type": "execute_result",
          "data": {
            "text/html": [
              "\n",
              "  <div id=\"df-758d7762-9f6a-46cc-8bec-14b7c2ee88e5\">\n",
              "    <div class=\"colab-df-container\">\n",
              "      <div>\n",
              "<style scoped>\n",
              "    .dataframe tbody tr th:only-of-type {\n",
              "        vertical-align: middle;\n",
              "    }\n",
              "\n",
              "    .dataframe tbody tr th {\n",
              "        vertical-align: top;\n",
              "    }\n",
              "\n",
              "    .dataframe thead th {\n",
              "        text-align: right;\n",
              "    }\n",
              "</style>\n",
              "<table border=\"1\" class=\"dataframe\">\n",
              "  <thead>\n",
              "    <tr style=\"text-align: right;\">\n",
              "      <th></th>\n",
              "      <th>Sub Grade</th>\n",
              "      <th>subgradepercent</th>\n",
              "    </tr>\n",
              "  </thead>\n",
              "  <tbody>\n",
              "    <tr>\n",
              "      <th>0</th>\n",
              "      <td>A1</td>\n",
              "      <td>0.091642</td>\n",
              "    </tr>\n",
              "    <tr>\n",
              "      <th>1</th>\n",
              "      <td>A2</td>\n",
              "      <td>0.097986</td>\n",
              "    </tr>\n",
              "    <tr>\n",
              "      <th>2</th>\n",
              "      <td>A3</td>\n",
              "      <td>0.094362</td>\n",
              "    </tr>\n",
              "    <tr>\n",
              "      <th>3</th>\n",
              "      <td>A4</td>\n",
              "      <td>0.091431</td>\n",
              "    </tr>\n",
              "    <tr>\n",
              "      <th>4</th>\n",
              "      <td>A5</td>\n",
              "      <td>0.094068</td>\n",
              "    </tr>\n",
              "    <tr>\n",
              "      <th>5</th>\n",
              "      <td>B1</td>\n",
              "      <td>0.099863</td>\n",
              "    </tr>\n",
              "    <tr>\n",
              "      <th>6</th>\n",
              "      <td>B2</td>\n",
              "      <td>0.088920</td>\n",
              "    </tr>\n",
              "    <tr>\n",
              "      <th>7</th>\n",
              "      <td>B3</td>\n",
              "      <td>0.082521</td>\n",
              "    </tr>\n",
              "    <tr>\n",
              "      <th>8</th>\n",
              "      <td>B4</td>\n",
              "      <td>0.091887</td>\n",
              "    </tr>\n",
              "    <tr>\n",
              "      <th>9</th>\n",
              "      <td>B5</td>\n",
              "      <td>0.095657</td>\n",
              "    </tr>\n",
              "    <tr>\n",
              "      <th>10</th>\n",
              "      <td>C1</td>\n",
              "      <td>0.078558</td>\n",
              "    </tr>\n",
              "    <tr>\n",
              "      <th>11</th>\n",
              "      <td>C2</td>\n",
              "      <td>0.094129</td>\n",
              "    </tr>\n",
              "    <tr>\n",
              "      <th>12</th>\n",
              "      <td>C3</td>\n",
              "      <td>0.094201</td>\n",
              "    </tr>\n",
              "    <tr>\n",
              "      <th>13</th>\n",
              "      <td>C4</td>\n",
              "      <td>0.093538</td>\n",
              "    </tr>\n",
              "    <tr>\n",
              "      <th>14</th>\n",
              "      <td>C5</td>\n",
              "      <td>0.095874</td>\n",
              "    </tr>\n",
              "    <tr>\n",
              "      <th>15</th>\n",
              "      <td>D1</td>\n",
              "      <td>0.093523</td>\n",
              "    </tr>\n",
              "    <tr>\n",
              "      <th>16</th>\n",
              "      <td>D2</td>\n",
              "      <td>0.097809</td>\n",
              "    </tr>\n",
              "    <tr>\n",
              "      <th>17</th>\n",
              "      <td>D3</td>\n",
              "      <td>0.089912</td>\n",
              "    </tr>\n",
              "    <tr>\n",
              "      <th>18</th>\n",
              "      <td>D4</td>\n",
              "      <td>0.090244</td>\n",
              "    </tr>\n",
              "    <tr>\n",
              "      <th>19</th>\n",
              "      <td>D5</td>\n",
              "      <td>0.103484</td>\n",
              "    </tr>\n",
              "    <tr>\n",
              "      <th>20</th>\n",
              "      <td>E1</td>\n",
              "      <td>0.100924</td>\n",
              "    </tr>\n",
              "    <tr>\n",
              "      <th>21</th>\n",
              "      <td>E2</td>\n",
              "      <td>0.088774</td>\n",
              "    </tr>\n",
              "    <tr>\n",
              "      <th>22</th>\n",
              "      <td>E3</td>\n",
              "      <td>0.089326</td>\n",
              "    </tr>\n",
              "    <tr>\n",
              "      <th>23</th>\n",
              "      <td>E4</td>\n",
              "      <td>0.102059</td>\n",
              "    </tr>\n",
              "    <tr>\n",
              "      <th>24</th>\n",
              "      <td>E5</td>\n",
              "      <td>0.080624</td>\n",
              "    </tr>\n",
              "    <tr>\n",
              "      <th>25</th>\n",
              "      <td>F1</td>\n",
              "      <td>0.087379</td>\n",
              "    </tr>\n",
              "    <tr>\n",
              "      <th>26</th>\n",
              "      <td>F2</td>\n",
              "      <td>0.100317</td>\n",
              "    </tr>\n",
              "    <tr>\n",
              "      <th>27</th>\n",
              "      <td>F3</td>\n",
              "      <td>0.098616</td>\n",
              "    </tr>\n",
              "    <tr>\n",
              "      <th>28</th>\n",
              "      <td>F4</td>\n",
              "      <td>0.099773</td>\n",
              "    </tr>\n",
              "    <tr>\n",
              "      <th>29</th>\n",
              "      <td>F5</td>\n",
              "      <td>0.091065</td>\n",
              "    </tr>\n",
              "    <tr>\n",
              "      <th>30</th>\n",
              "      <td>G1</td>\n",
              "      <td>0.095628</td>\n",
              "    </tr>\n",
              "    <tr>\n",
              "      <th>31</th>\n",
              "      <td>G2</td>\n",
              "      <td>0.080537</td>\n",
              "    </tr>\n",
              "    <tr>\n",
              "      <th>32</th>\n",
              "      <td>G3</td>\n",
              "      <td>0.130081</td>\n",
              "    </tr>\n",
              "    <tr>\n",
              "      <th>33</th>\n",
              "      <td>G4</td>\n",
              "      <td>0.099338</td>\n",
              "    </tr>\n",
              "    <tr>\n",
              "      <th>34</th>\n",
              "      <td>G5</td>\n",
              "      <td>0.098592</td>\n",
              "    </tr>\n",
              "  </tbody>\n",
              "</table>\n",
              "</div>\n",
              "      <button class=\"colab-df-convert\" onclick=\"convertToInteractive('df-758d7762-9f6a-46cc-8bec-14b7c2ee88e5')\"\n",
              "              title=\"Convert this dataframe to an interactive table.\"\n",
              "              style=\"display:none;\">\n",
              "        \n",
              "  <svg xmlns=\"http://www.w3.org/2000/svg\" height=\"24px\"viewBox=\"0 0 24 24\"\n",
              "       width=\"24px\">\n",
              "    <path d=\"M0 0h24v24H0V0z\" fill=\"none\"/>\n",
              "    <path d=\"M18.56 5.44l.94 2.06.94-2.06 2.06-.94-2.06-.94-.94-2.06-.94 2.06-2.06.94zm-11 1L8.5 8.5l.94-2.06 2.06-.94-2.06-.94L8.5 2.5l-.94 2.06-2.06.94zm10 10l.94 2.06.94-2.06 2.06-.94-2.06-.94-.94-2.06-.94 2.06-2.06.94z\"/><path d=\"M17.41 7.96l-1.37-1.37c-.4-.4-.92-.59-1.43-.59-.52 0-1.04.2-1.43.59L10.3 9.45l-7.72 7.72c-.78.78-.78 2.05 0 2.83L4 21.41c.39.39.9.59 1.41.59.51 0 1.02-.2 1.41-.59l7.78-7.78 2.81-2.81c.8-.78.8-2.07 0-2.86zM5.41 20L4 18.59l7.72-7.72 1.47 1.35L5.41 20z\"/>\n",
              "  </svg>\n",
              "      </button>\n",
              "      \n",
              "  <style>\n",
              "    .colab-df-container {\n",
              "      display:flex;\n",
              "      flex-wrap:wrap;\n",
              "      gap: 12px;\n",
              "    }\n",
              "\n",
              "    .colab-df-convert {\n",
              "      background-color: #E8F0FE;\n",
              "      border: none;\n",
              "      border-radius: 50%;\n",
              "      cursor: pointer;\n",
              "      display: none;\n",
              "      fill: #1967D2;\n",
              "      height: 32px;\n",
              "      padding: 0 0 0 0;\n",
              "      width: 32px;\n",
              "    }\n",
              "\n",
              "    .colab-df-convert:hover {\n",
              "      background-color: #E2EBFA;\n",
              "      box-shadow: 0px 1px 2px rgba(60, 64, 67, 0.3), 0px 1px 3px 1px rgba(60, 64, 67, 0.15);\n",
              "      fill: #174EA6;\n",
              "    }\n",
              "\n",
              "    [theme=dark] .colab-df-convert {\n",
              "      background-color: #3B4455;\n",
              "      fill: #D2E3FC;\n",
              "    }\n",
              "\n",
              "    [theme=dark] .colab-df-convert:hover {\n",
              "      background-color: #434B5C;\n",
              "      box-shadow: 0px 1px 3px 1px rgba(0, 0, 0, 0.15);\n",
              "      filter: drop-shadow(0px 1px 2px rgba(0, 0, 0, 0.3));\n",
              "      fill: #FFFFFF;\n",
              "    }\n",
              "  </style>\n",
              "\n",
              "      <script>\n",
              "        const buttonEl =\n",
              "          document.querySelector('#df-758d7762-9f6a-46cc-8bec-14b7c2ee88e5 button.colab-df-convert');\n",
              "        buttonEl.style.display =\n",
              "          google.colab.kernel.accessAllowed ? 'block' : 'none';\n",
              "\n",
              "        async function convertToInteractive(key) {\n",
              "          const element = document.querySelector('#df-758d7762-9f6a-46cc-8bec-14b7c2ee88e5');\n",
              "          const dataTable =\n",
              "            await google.colab.kernel.invokeFunction('convertToInteractive',\n",
              "                                                     [key], {});\n",
              "          if (!dataTable) return;\n",
              "\n",
              "          const docLinkHtml = 'Like what you see? Visit the ' +\n",
              "            '<a target=\"_blank\" href=https://colab.research.google.com/notebooks/data_table.ipynb>data table notebook</a>'\n",
              "            + ' to learn more about interactive tables.';\n",
              "          element.innerHTML = '';\n",
              "          dataTable['output_type'] = 'display_data';\n",
              "          await google.colab.output.renderOutput(dataTable, element);\n",
              "          const docLink = document.createElement('div');\n",
              "          docLink.innerHTML = docLinkHtml;\n",
              "          element.appendChild(docLink);\n",
              "        }\n",
              "      </script>\n",
              "    </div>\n",
              "  </div>\n",
              "  "
            ],
            "text/plain": [
              "   Sub Grade  subgradepercent\n",
              "0         A1         0.091642\n",
              "1         A2         0.097986\n",
              "2         A3         0.094362\n",
              "3         A4         0.091431\n",
              "4         A5         0.094068\n",
              "5         B1         0.099863\n",
              "6         B2         0.088920\n",
              "7         B3         0.082521\n",
              "8         B4         0.091887\n",
              "9         B5         0.095657\n",
              "10        C1         0.078558\n",
              "11        C2         0.094129\n",
              "12        C3         0.094201\n",
              "13        C4         0.093538\n",
              "14        C5         0.095874\n",
              "15        D1         0.093523\n",
              "16        D2         0.097809\n",
              "17        D3         0.089912\n",
              "18        D4         0.090244\n",
              "19        D5         0.103484\n",
              "20        E1         0.100924\n",
              "21        E2         0.088774\n",
              "22        E3         0.089326\n",
              "23        E4         0.102059\n",
              "24        E5         0.080624\n",
              "25        F1         0.087379\n",
              "26        F2         0.100317\n",
              "27        F3         0.098616\n",
              "28        F4         0.099773\n",
              "29        F5         0.091065\n",
              "30        G1         0.095628\n",
              "31        G2         0.080537\n",
              "32        G3         0.130081\n",
              "33        G4         0.099338\n",
              "34        G5         0.098592"
            ]
          },
          "metadata": {},
          "execution_count": 36
        }
      ]
    },
    {
      "cell_type": "code",
      "metadata": {
        "colab": {
          "base_uri": "https://localhost:8080/"
        },
        "id": "DvVgnPnDOKjZ",
        "outputId": "e9b10f25-62a5-4204-8869-01da0c8dcb43"
      },
      "source": [
        "#Since we have seen there is no obvious correlation between each Sub Grade and the Loan Status, let's analyze if the aggregation of each letter (A1-A5, B1-B5, for instance) has a correlation with he target.\n",
        "countsum_subgrade['subgradepercent'].iloc[:5].sum(),countsum_subgrade['subgradepercent'].iloc[5:10].sum(),countsum_subgrade['subgradepercent'].iloc[10:15].sum(),countsum_subgrade['subgradepercent'].iloc[15:20].sum(),countsum_subgrade['subgradepercent'].iloc[20:25].sum(),countsum_subgrade['subgradepercent'].iloc[25:30].sum(),countsum_subgrade['subgradepercent'].iloc[30:35].sum()\n"
      ],
      "execution_count": null,
      "outputs": [
        {
          "output_type": "execute_result",
          "data": {
            "text/plain": [
              "(0.46948898504852765,\n",
              " 0.4588486089603282,\n",
              " 0.4562992201996209,\n",
              " 0.47497226741238235,\n",
              " 0.4617083826559751,\n",
              " 0.47714988232104616,\n",
              " 0.504175926505378)"
            ]
          },
          "metadata": {},
          "execution_count": 37
        }
      ]
    },
    {
      "cell_type": "markdown",
      "source": [
        "As we can see above, we can't assume any kind of correlation between the feature Sub Grade and the Loan Status. \n",
        "\n",
        "Said that, at first I excluded the feature. Than I realized that if I used the label encoder I would improve the score."
      ],
      "metadata": {
        "id": "Qkhh32ZSznef"
      }
    },
    {
      "cell_type": "code",
      "metadata": {
        "id": "J-fBy4zfKkBr"
      },
      "source": [
        "from sklearn import preprocessing\n",
        "le = preprocessing.LabelEncoder()\n",
        "df['Sub Grade']=le.fit_transform(df['Sub Grade'])\n",
        "test['Sub Grade']=le.transform(test['Sub Grade'])"
      ],
      "execution_count": null,
      "outputs": []
    },
    {
      "cell_type": "markdown",
      "source": [
        "- Employment Duration"
      ],
      "metadata": {
        "id": "EGWH0VBg0EMO"
      }
    },
    {
      "cell_type": "markdown",
      "source": [
        "Once the duration should be a numeric feature, I believe the variable name is wrong."
      ],
      "metadata": {
        "id": "jIGa382d0KvS"
      }
    },
    {
      "cell_type": "code",
      "metadata": {
        "colab": {
          "base_uri": "https://localhost:8080/"
        },
        "id": "oZ9HFPL8Pyd8",
        "outputId": "9bfd9776-da95-4d21-b69b-a31d8f8f0624"
      },
      "source": [
        "df['Employment Duration'].value_counts()"
      ],
      "execution_count": null,
      "outputs": [
        {
          "output_type": "execute_result",
          "data": {
            "text/plain": [
              "MORTGAGE    36351\n",
              "RENT        24150\n",
              "OWN          6962\n",
              "Name: Employment Duration, dtype: int64"
            ]
          },
          "metadata": {},
          "execution_count": 39
        }
      ]
    },
    {
      "cell_type": "code",
      "metadata": {
        "id": "sROghJCcPyh-"
      },
      "source": [
        "\n",
        "countsum_EmploymentDuration=df.copy()\n",
        "countsum_EmploymentDuration['Contador']=1\n",
        "countsum_EmploymentDuration=countsum_EmploymentDuration.groupby('Employment Duration').sum().reset_index()[['Employment Duration', 'Contador', 'Loan Status']]\n",
        "countsum_EmploymentDuration['EmploymentDuration%']=countsum_EmploymentDuration['Loan Status']/countsum_EmploymentDuration['Contador']"
      ],
      "execution_count": null,
      "outputs": []
    },
    {
      "cell_type": "code",
      "source": [
        "countsum_EmploymentDuration[['Employment Duration','EmploymentDuration%']]"
      ],
      "metadata": {
        "colab": {
          "base_uri": "https://localhost:8080/",
          "height": 143
        },
        "id": "5epKgqEsttJm",
        "outputId": "9dfa0fbe-8208-4485-aa27-ea1af84f7803"
      },
      "execution_count": null,
      "outputs": [
        {
          "output_type": "execute_result",
          "data": {
            "text/html": [
              "\n",
              "  <div id=\"df-a3d38291-55f7-4cb3-833c-5582d44f4a01\">\n",
              "    <div class=\"colab-df-container\">\n",
              "      <div>\n",
              "<style scoped>\n",
              "    .dataframe tbody tr th:only-of-type {\n",
              "        vertical-align: middle;\n",
              "    }\n",
              "\n",
              "    .dataframe tbody tr th {\n",
              "        vertical-align: top;\n",
              "    }\n",
              "\n",
              "    .dataframe thead th {\n",
              "        text-align: right;\n",
              "    }\n",
              "</style>\n",
              "<table border=\"1\" class=\"dataframe\">\n",
              "  <thead>\n",
              "    <tr style=\"text-align: right;\">\n",
              "      <th></th>\n",
              "      <th>Employment Duration</th>\n",
              "      <th>EmploymentDuration%</th>\n",
              "    </tr>\n",
              "  </thead>\n",
              "  <tbody>\n",
              "    <tr>\n",
              "      <th>0</th>\n",
              "      <td>MORTGAGE</td>\n",
              "      <td>0.088663</td>\n",
              "    </tr>\n",
              "    <tr>\n",
              "      <th>1</th>\n",
              "      <td>OWN</td>\n",
              "      <td>0.101551</td>\n",
              "    </tr>\n",
              "    <tr>\n",
              "      <th>2</th>\n",
              "      <td>RENT</td>\n",
              "      <td>0.095694</td>\n",
              "    </tr>\n",
              "  </tbody>\n",
              "</table>\n",
              "</div>\n",
              "      <button class=\"colab-df-convert\" onclick=\"convertToInteractive('df-a3d38291-55f7-4cb3-833c-5582d44f4a01')\"\n",
              "              title=\"Convert this dataframe to an interactive table.\"\n",
              "              style=\"display:none;\">\n",
              "        \n",
              "  <svg xmlns=\"http://www.w3.org/2000/svg\" height=\"24px\"viewBox=\"0 0 24 24\"\n",
              "       width=\"24px\">\n",
              "    <path d=\"M0 0h24v24H0V0z\" fill=\"none\"/>\n",
              "    <path d=\"M18.56 5.44l.94 2.06.94-2.06 2.06-.94-2.06-.94-.94-2.06-.94 2.06-2.06.94zm-11 1L8.5 8.5l.94-2.06 2.06-.94-2.06-.94L8.5 2.5l-.94 2.06-2.06.94zm10 10l.94 2.06.94-2.06 2.06-.94-2.06-.94-.94-2.06-.94 2.06-2.06.94z\"/><path d=\"M17.41 7.96l-1.37-1.37c-.4-.4-.92-.59-1.43-.59-.52 0-1.04.2-1.43.59L10.3 9.45l-7.72 7.72c-.78.78-.78 2.05 0 2.83L4 21.41c.39.39.9.59 1.41.59.51 0 1.02-.2 1.41-.59l7.78-7.78 2.81-2.81c.8-.78.8-2.07 0-2.86zM5.41 20L4 18.59l7.72-7.72 1.47 1.35L5.41 20z\"/>\n",
              "  </svg>\n",
              "      </button>\n",
              "      \n",
              "  <style>\n",
              "    .colab-df-container {\n",
              "      display:flex;\n",
              "      flex-wrap:wrap;\n",
              "      gap: 12px;\n",
              "    }\n",
              "\n",
              "    .colab-df-convert {\n",
              "      background-color: #E8F0FE;\n",
              "      border: none;\n",
              "      border-radius: 50%;\n",
              "      cursor: pointer;\n",
              "      display: none;\n",
              "      fill: #1967D2;\n",
              "      height: 32px;\n",
              "      padding: 0 0 0 0;\n",
              "      width: 32px;\n",
              "    }\n",
              "\n",
              "    .colab-df-convert:hover {\n",
              "      background-color: #E2EBFA;\n",
              "      box-shadow: 0px 1px 2px rgba(60, 64, 67, 0.3), 0px 1px 3px 1px rgba(60, 64, 67, 0.15);\n",
              "      fill: #174EA6;\n",
              "    }\n",
              "\n",
              "    [theme=dark] .colab-df-convert {\n",
              "      background-color: #3B4455;\n",
              "      fill: #D2E3FC;\n",
              "    }\n",
              "\n",
              "    [theme=dark] .colab-df-convert:hover {\n",
              "      background-color: #434B5C;\n",
              "      box-shadow: 0px 1px 3px 1px rgba(0, 0, 0, 0.15);\n",
              "      filter: drop-shadow(0px 1px 2px rgba(0, 0, 0, 0.3));\n",
              "      fill: #FFFFFF;\n",
              "    }\n",
              "  </style>\n",
              "\n",
              "      <script>\n",
              "        const buttonEl =\n",
              "          document.querySelector('#df-a3d38291-55f7-4cb3-833c-5582d44f4a01 button.colab-df-convert');\n",
              "        buttonEl.style.display =\n",
              "          google.colab.kernel.accessAllowed ? 'block' : 'none';\n",
              "\n",
              "        async function convertToInteractive(key) {\n",
              "          const element = document.querySelector('#df-a3d38291-55f7-4cb3-833c-5582d44f4a01');\n",
              "          const dataTable =\n",
              "            await google.colab.kernel.invokeFunction('convertToInteractive',\n",
              "                                                     [key], {});\n",
              "          if (!dataTable) return;\n",
              "\n",
              "          const docLinkHtml = 'Like what you see? Visit the ' +\n",
              "            '<a target=\"_blank\" href=https://colab.research.google.com/notebooks/data_table.ipynb>data table notebook</a>'\n",
              "            + ' to learn more about interactive tables.';\n",
              "          element.innerHTML = '';\n",
              "          dataTable['output_type'] = 'display_data';\n",
              "          await google.colab.output.renderOutput(dataTable, element);\n",
              "          const docLink = document.createElement('div');\n",
              "          docLink.innerHTML = docLinkHtml;\n",
              "          element.appendChild(docLink);\n",
              "        }\n",
              "      </script>\n",
              "    </div>\n",
              "  </div>\n",
              "  "
            ],
            "text/plain": [
              "  Employment Duration  EmploymentDuration%\n",
              "0            MORTGAGE             0.088663\n",
              "1                 OWN             0.101551\n",
              "2                RENT             0.095694"
            ]
          },
          "metadata": {},
          "execution_count": 41
        }
      ]
    },
    {
      "cell_type": "code",
      "metadata": {
        "id": "IaL_Dig2Pyu8"
      },
      "source": [
        "#We are going to use the label encoder and see if the algorithm finds some pattern.\n",
        "from sklearn import preprocessing\n",
        "le = preprocessing.LabelEncoder()\n",
        "df['Classe_EmplymentDuration']=le.fit_transform(df['Employment Duration'])\n",
        "test['Classe_EmplymentDuration']=le.transform(test['Employment Duration'])"
      ],
      "execution_count": null,
      "outputs": []
    },
    {
      "cell_type": "code",
      "metadata": {
        "id": "VOM9gszNPy1W"
      },
      "source": [
        "df.drop('Employment Duration', axis=1, inplace=True)\n",
        "test.drop('Employment Duration', axis=1, inplace=True)"
      ],
      "execution_count": null,
      "outputs": []
    },
    {
      "cell_type": "markdown",
      "source": [
        "- Verification Status"
      ],
      "metadata": {
        "id": "qvd3mhir1bds"
      }
    },
    {
      "cell_type": "code",
      "metadata": {
        "colab": {
          "base_uri": "https://localhost:8080/"
        },
        "id": "KiiaqMCYUmW4",
        "outputId": "38fb2489-1431-44e3-f1d6-92ca1b485e5b"
      },
      "source": [
        "df['Verification Status'].value_counts() "
      ],
      "execution_count": null,
      "outputs": [
        {
          "output_type": "execute_result",
          "data": {
            "text/plain": [
              "Source Verified    33036\n",
              "Verified           18078\n",
              "Not Verified       16349\n",
              "Name: Verification Status, dtype: int64"
            ]
          },
          "metadata": {},
          "execution_count": 44
        }
      ]
    },
    {
      "cell_type": "code",
      "metadata": {
        "id": "1IDWz_KEUmZs"
      },
      "source": [
        "countsum_VerificationStatus=df.copy()\n",
        "countsum_VerificationStatus['Contador']=1\n",
        "countsum_VerificationStatus=countsum_VerificationStatus.groupby('Verification Status').sum().reset_index()[['Verification Status', 'Contador', 'Loan Status']]\n",
        "countsum_VerificationStatus['VerificationStatus%']=countsum_VerificationStatus['Loan Status']/countsum_VerificationStatus['Contador']"
      ],
      "execution_count": null,
      "outputs": []
    },
    {
      "cell_type": "code",
      "metadata": {
        "id": "D-St5b05WAmm",
        "colab": {
          "base_uri": "https://localhost:8080/",
          "height": 143
        },
        "outputId": "ec534f38-ce06-4091-bad4-736f003bf69a"
      },
      "source": [
        "countsum_VerificationStatus[['Verification Status', 'VerificationStatus%']]"
      ],
      "execution_count": null,
      "outputs": [
        {
          "output_type": "execute_result",
          "data": {
            "text/html": [
              "\n",
              "  <div id=\"df-22f7d5e5-dd77-4a2a-80ca-e1b700731f95\">\n",
              "    <div class=\"colab-df-container\">\n",
              "      <div>\n",
              "<style scoped>\n",
              "    .dataframe tbody tr th:only-of-type {\n",
              "        vertical-align: middle;\n",
              "    }\n",
              "\n",
              "    .dataframe tbody tr th {\n",
              "        vertical-align: top;\n",
              "    }\n",
              "\n",
              "    .dataframe thead th {\n",
              "        text-align: right;\n",
              "    }\n",
              "</style>\n",
              "<table border=\"1\" class=\"dataframe\">\n",
              "  <thead>\n",
              "    <tr style=\"text-align: right;\">\n",
              "      <th></th>\n",
              "      <th>Verification Status</th>\n",
              "      <th>VerificationStatus%</th>\n",
              "    </tr>\n",
              "  </thead>\n",
              "  <tbody>\n",
              "    <tr>\n",
              "      <th>0</th>\n",
              "      <td>Not Verified</td>\n",
              "      <td>0.092116</td>\n",
              "    </tr>\n",
              "    <tr>\n",
              "      <th>1</th>\n",
              "      <td>Source Verified</td>\n",
              "      <td>0.093383</td>\n",
              "    </tr>\n",
              "    <tr>\n",
              "      <th>2</th>\n",
              "      <td>Verified</td>\n",
              "      <td>0.091271</td>\n",
              "    </tr>\n",
              "  </tbody>\n",
              "</table>\n",
              "</div>\n",
              "      <button class=\"colab-df-convert\" onclick=\"convertToInteractive('df-22f7d5e5-dd77-4a2a-80ca-e1b700731f95')\"\n",
              "              title=\"Convert this dataframe to an interactive table.\"\n",
              "              style=\"display:none;\">\n",
              "        \n",
              "  <svg xmlns=\"http://www.w3.org/2000/svg\" height=\"24px\"viewBox=\"0 0 24 24\"\n",
              "       width=\"24px\">\n",
              "    <path d=\"M0 0h24v24H0V0z\" fill=\"none\"/>\n",
              "    <path d=\"M18.56 5.44l.94 2.06.94-2.06 2.06-.94-2.06-.94-.94-2.06-.94 2.06-2.06.94zm-11 1L8.5 8.5l.94-2.06 2.06-.94-2.06-.94L8.5 2.5l-.94 2.06-2.06.94zm10 10l.94 2.06.94-2.06 2.06-.94-2.06-.94-.94-2.06-.94 2.06-2.06.94z\"/><path d=\"M17.41 7.96l-1.37-1.37c-.4-.4-.92-.59-1.43-.59-.52 0-1.04.2-1.43.59L10.3 9.45l-7.72 7.72c-.78.78-.78 2.05 0 2.83L4 21.41c.39.39.9.59 1.41.59.51 0 1.02-.2 1.41-.59l7.78-7.78 2.81-2.81c.8-.78.8-2.07 0-2.86zM5.41 20L4 18.59l7.72-7.72 1.47 1.35L5.41 20z\"/>\n",
              "  </svg>\n",
              "      </button>\n",
              "      \n",
              "  <style>\n",
              "    .colab-df-container {\n",
              "      display:flex;\n",
              "      flex-wrap:wrap;\n",
              "      gap: 12px;\n",
              "    }\n",
              "\n",
              "    .colab-df-convert {\n",
              "      background-color: #E8F0FE;\n",
              "      border: none;\n",
              "      border-radius: 50%;\n",
              "      cursor: pointer;\n",
              "      display: none;\n",
              "      fill: #1967D2;\n",
              "      height: 32px;\n",
              "      padding: 0 0 0 0;\n",
              "      width: 32px;\n",
              "    }\n",
              "\n",
              "    .colab-df-convert:hover {\n",
              "      background-color: #E2EBFA;\n",
              "      box-shadow: 0px 1px 2px rgba(60, 64, 67, 0.3), 0px 1px 3px 1px rgba(60, 64, 67, 0.15);\n",
              "      fill: #174EA6;\n",
              "    }\n",
              "\n",
              "    [theme=dark] .colab-df-convert {\n",
              "      background-color: #3B4455;\n",
              "      fill: #D2E3FC;\n",
              "    }\n",
              "\n",
              "    [theme=dark] .colab-df-convert:hover {\n",
              "      background-color: #434B5C;\n",
              "      box-shadow: 0px 1px 3px 1px rgba(0, 0, 0, 0.15);\n",
              "      filter: drop-shadow(0px 1px 2px rgba(0, 0, 0, 0.3));\n",
              "      fill: #FFFFFF;\n",
              "    }\n",
              "  </style>\n",
              "\n",
              "      <script>\n",
              "        const buttonEl =\n",
              "          document.querySelector('#df-22f7d5e5-dd77-4a2a-80ca-e1b700731f95 button.colab-df-convert');\n",
              "        buttonEl.style.display =\n",
              "          google.colab.kernel.accessAllowed ? 'block' : 'none';\n",
              "\n",
              "        async function convertToInteractive(key) {\n",
              "          const element = document.querySelector('#df-22f7d5e5-dd77-4a2a-80ca-e1b700731f95');\n",
              "          const dataTable =\n",
              "            await google.colab.kernel.invokeFunction('convertToInteractive',\n",
              "                                                     [key], {});\n",
              "          if (!dataTable) return;\n",
              "\n",
              "          const docLinkHtml = 'Like what you see? Visit the ' +\n",
              "            '<a target=\"_blank\" href=https://colab.research.google.com/notebooks/data_table.ipynb>data table notebook</a>'\n",
              "            + ' to learn more about interactive tables.';\n",
              "          element.innerHTML = '';\n",
              "          dataTable['output_type'] = 'display_data';\n",
              "          await google.colab.output.renderOutput(dataTable, element);\n",
              "          const docLink = document.createElement('div');\n",
              "          docLink.innerHTML = docLinkHtml;\n",
              "          element.appendChild(docLink);\n",
              "        }\n",
              "      </script>\n",
              "    </div>\n",
              "  </div>\n",
              "  "
            ],
            "text/plain": [
              "  Verification Status  VerificationStatus%\n",
              "0        Not Verified             0.092116\n",
              "1     Source Verified             0.093383\n",
              "2            Verified             0.091271"
            ]
          },
          "metadata": {},
          "execution_count": 46
        }
      ]
    },
    {
      "cell_type": "code",
      "metadata": {
        "id": "C78RQzpIUmjm"
      },
      "source": [
        "# The percentages are almost the same. That way, let's use the label encoder and see if we can find a pattern when running the model."
      ],
      "execution_count": null,
      "outputs": []
    },
    {
      "cell_type": "code",
      "metadata": {
        "id": "8z9hYcXSW6i-"
      },
      "source": [
        "le = preprocessing.LabelEncoder()\n",
        "df['Classe_Verification Status']=le.fit_transform(df['Verification Status'])\n",
        "test['Classe_Verification Status']=le.transform(test['Verification Status'])"
      ],
      "execution_count": null,
      "outputs": []
    },
    {
      "cell_type": "code",
      "metadata": {
        "id": "iU4C0XjqW6i_"
      },
      "source": [
        "df.drop('Verification Status', axis=1, inplace=True)\n",
        "test.drop('Verification Status', axis=1, inplace=True)"
      ],
      "execution_count": null,
      "outputs": []
    },
    {
      "cell_type": "markdown",
      "source": [
        "- Payment Plan"
      ],
      "metadata": {
        "id": "9MSEDydr1sZ6"
      }
    },
    {
      "cell_type": "code",
      "metadata": {
        "colab": {
          "base_uri": "https://localhost:8080/"
        },
        "id": "6DXI86DTXXYM",
        "outputId": "69abf3de-9698-47e8-85bf-3564a85a13e5"
      },
      "source": [
        "df['Payment Plan'].unique(), test['Payment Plan'].unique()"
      ],
      "execution_count": null,
      "outputs": [
        {
          "output_type": "execute_result",
          "data": {
            "text/plain": [
              "(array(['n'], dtype=object), array(['n'], dtype=object))"
            ]
          },
          "metadata": {},
          "execution_count": 50
        }
      ]
    },
    {
      "cell_type": "code",
      "metadata": {
        "id": "cw4TjohSXXeA"
      },
      "source": [
        "#As this feature only has one class, it won't bring any information to our model. We are going to exclude it.\n",
        "df.drop('Payment Plan', axis=1,inplace=True)\n",
        "test.drop('Payment Plan', axis=1,inplace=True)"
      ],
      "execution_count": null,
      "outputs": []
    },
    {
      "cell_type": "markdown",
      "source": [
        "- Loan Title"
      ],
      "metadata": {
        "id": "nk2cgsv_2JD7"
      }
    },
    {
      "cell_type": "markdown",
      "source": [
        "This variable is the one that has the most numer of classes, 109. I tried in another submission to make a preprocessing. I joined the classes that were the same but written in different ways, also joined synonyms classes, but the log loss metric got worse.\n",
        "\n",
        "I think the reason this happened is that the test has exactly the same classes as the train. Probably if we had to deploy the model, new classes could appear and would be better to do a preprocessing, reducing the amount of classes, but in this case it was not useful."
      ],
      "metadata": {
        "id": "91-Qnb0P2ZKX"
      }
    },
    {
      "cell_type": "code",
      "metadata": {
        "colab": {
          "base_uri": "https://localhost:8080/"
        },
        "id": "KcEvbRo9Umyc",
        "outputId": "cc7f25cb-9a06-4e65-8b9f-56a33a7820c0"
      },
      "source": [
        "df['Loan Title'].unique()"
      ],
      "execution_count": null,
      "outputs": [
        {
          "output_type": "execute_result",
          "data": {
            "text/plain": [
              "array(['Debt Consolidation', 'Credit card refinancing',\n",
              "       'DEBT CONSOLIDATION', 'Debt consolidation', 'Home Improvement',\n",
              "       'Other', 'Major purchase', 'Medical expenses', 'personal',\n",
              "       'Home improvement', 'Refinance Loan', 'Credit Cards',\n",
              "       'Credit Card Refinance', 'Business', 'Consolidated',\n",
              "       'debt consolidation', 'CC Refi', 'Consolidate', 'Freedom', 'Loan',\n",
              "       'Credit Card Consolidation', 'Credit Card Paydown', 'Home buying',\n",
              "       'Credit Card Payoff', 'debt consolidation loan',\n",
              "       'Consolidation Loan', 'Credit Consolidation', 'payoff',\n",
              "       'CC-Refinance', 'Debt Consolidation Loan', 'Car financing',\n",
              "       'CC Refinance', 'Refinance', 'Credit Card consolidation',\n",
              "       'Consolidation', 'Personal', 'Debt Reduction', 'consolidation',\n",
              "       'Vacation', 'Payoff', 'Lending Club', 'debt loan', 'Green loan',\n",
              "       'Credit payoff', 'Credit Card Refi', 'Credit Card', 'consolidate',\n",
              "       'Medical', 'Moving and relocation', 'Credit Card Loan', 'Bathroom',\n",
              "       'Debt Loan', 'Pool', 'Credit card refinance', 'Credit card payoff',\n",
              "       'Loan Consolidation', 'credit card refinance',\n",
              "       'Credit card pay off', 'Credit Card Refinance Loan',\n",
              "       'pay off bills', 'Card Consolidation', 'Dept consolidation',\n",
              "       'cards', 'Personal Loan', 'refi', 'House', 'Cards', 'Loan 1',\n",
              "       'debt', 'My Loan', 'get out of debt', 'Get Debt Free', 'Pay Off',\n",
              "       'credit card consolidation', 'consolidation loan', 'Home',\n",
              "       'Credit Card Debt', 'Debt', 'credit pay off', 'Debt Payoff',\n",
              "       'CONSOLIDATE', 'relief', 'Bill Payoff', 'Debt Free', 'Home loan',\n",
              "       'CC consolidation', 'Car Loan', 'CONSOLIDATION', 'Credit Loan',\n",
              "       'loan1', 'Home Improvement Loan', 'Lending loan', 'credit card',\n",
              "       'CC', 'CC Consolidation', 'CC Loan', 'Personal loan',\n",
              "       'Wedding Loan', 'MYLOAN', 'home improvement', 'Bill Consolidation',\n",
              "       'Getting Ahead', 'Debt payoff', 'Medical loan', 'vacation',\n",
              "       'conso', 'Credit', 'Debt Consolidation 2013', 'bills'],\n",
              "      dtype=object)"
            ]
          },
          "metadata": {},
          "execution_count": 52
        }
      ]
    },
    {
      "cell_type": "code",
      "source": [
        "df['Loan Title'].nunique(), test['Loan Title'].nunique()"
      ],
      "metadata": {
        "colab": {
          "base_uri": "https://localhost:8080/"
        },
        "id": "qPV7vK413a_l",
        "outputId": "80f257bd-bce1-47c0-8f64-3335076f43e7"
      },
      "execution_count": null,
      "outputs": [
        {
          "output_type": "execute_result",
          "data": {
            "text/plain": [
              "(109, 109)"
            ]
          },
          "metadata": {},
          "execution_count": 53
        }
      ]
    },
    {
      "cell_type": "code",
      "source": [
        "#As we can assume in this cell and in the above, all the classes in train and test are the same.\n",
        "df[df['Loan Title'].isin(test['Loan Title'].unique())]['Loan Title'].nunique()"
      ],
      "metadata": {
        "colab": {
          "base_uri": "https://localhost:8080/"
        },
        "id": "5Vfy9Bw03p3s",
        "outputId": "ac408d05-8988-44b5-ba1e-42d3d077245f"
      },
      "execution_count": null,
      "outputs": [
        {
          "output_type": "execute_result",
          "data": {
            "text/plain": [
              "109"
            ]
          },
          "metadata": {},
          "execution_count": 54
        }
      ]
    },
    {
      "cell_type": "code",
      "metadata": {
        "id": "thLozrupZFCP",
        "colab": {
          "base_uri": "https://localhost:8080/",
          "height": 1000
        },
        "outputId": "ed238f23-2282-4880-c0bf-608b1eccb705"
      },
      "source": [
        "countsum_LoanTitle=df.copy()\n",
        "countsum_LoanTitle['Contador']=1\n",
        "countsum_LoanTitle=countsum_LoanTitle.groupby('Loan Title').sum().reset_index()[['Loan Title', 'Contador', 'Loan Status']]\n",
        "countsum_LoanTitle['LoanTitle%']=countsum_LoanTitle['Loan Status']/countsum_LoanTitle['Contador']\n",
        "countsum_LoanTitle.sort_values(by='LoanTitle%', ascending=True).head(60)"
      ],
      "execution_count": null,
      "outputs": [
        {
          "output_type": "execute_result",
          "data": {
            "text/html": [
              "\n",
              "  <div id=\"df-8c3e3d84-afd9-4d2c-9c78-101db48ba9fd\">\n",
              "    <div class=\"colab-df-container\">\n",
              "      <div>\n",
              "<style scoped>\n",
              "    .dataframe tbody tr th:only-of-type {\n",
              "        vertical-align: middle;\n",
              "    }\n",
              "\n",
              "    .dataframe tbody tr th {\n",
              "        vertical-align: top;\n",
              "    }\n",
              "\n",
              "    .dataframe thead th {\n",
              "        text-align: right;\n",
              "    }\n",
              "</style>\n",
              "<table border=\"1\" class=\"dataframe\">\n",
              "  <thead>\n",
              "    <tr style=\"text-align: right;\">\n",
              "      <th></th>\n",
              "      <th>Loan Title</th>\n",
              "      <th>Contador</th>\n",
              "      <th>Loan Status</th>\n",
              "      <th>LoanTitle%</th>\n",
              "    </tr>\n",
              "  </thead>\n",
              "  <tbody>\n",
              "    <tr>\n",
              "      <th>108</th>\n",
              "      <td>vacation</td>\n",
              "      <td>10</td>\n",
              "      <td>0</td>\n",
              "      <td>0.000000</td>\n",
              "    </tr>\n",
              "    <tr>\n",
              "      <th>43</th>\n",
              "      <td>Debt Consolidation 2013</td>\n",
              "      <td>6</td>\n",
              "      <td>0</td>\n",
              "      <td>0.000000</td>\n",
              "    </tr>\n",
              "    <tr>\n",
              "      <th>50</th>\n",
              "      <td>Debt payoff</td>\n",
              "      <td>7</td>\n",
              "      <td>0</td>\n",
              "      <td>0.000000</td>\n",
              "    </tr>\n",
              "    <tr>\n",
              "      <th>26</th>\n",
              "      <td>Credit Card Paydown</td>\n",
              "      <td>9</td>\n",
              "      <td>0</td>\n",
              "      <td>0.000000</td>\n",
              "    </tr>\n",
              "    <tr>\n",
              "      <th>21</th>\n",
              "      <td>Credit</td>\n",
              "      <td>4</td>\n",
              "      <td>0</td>\n",
              "      <td>0.000000</td>\n",
              "    </tr>\n",
              "    <tr>\n",
              "      <th>72</th>\n",
              "      <td>Medical loan</td>\n",
              "      <td>9</td>\n",
              "      <td>0</td>\n",
              "      <td>0.000000</td>\n",
              "    </tr>\n",
              "    <tr>\n",
              "      <th>18</th>\n",
              "      <td>Consolidated</td>\n",
              "      <td>13</td>\n",
              "      <td>0</td>\n",
              "      <td>0.000000</td>\n",
              "    </tr>\n",
              "    <tr>\n",
              "      <th>80</th>\n",
              "      <td>Personal loan</td>\n",
              "      <td>5</td>\n",
              "      <td>0</td>\n",
              "      <td>0.000000</td>\n",
              "    </tr>\n",
              "    <tr>\n",
              "      <th>13</th>\n",
              "      <td>Car Loan</td>\n",
              "      <td>9</td>\n",
              "      <td>0</td>\n",
              "      <td>0.000000</td>\n",
              "    </tr>\n",
              "    <tr>\n",
              "      <th>12</th>\n",
              "      <td>CONSOLIDATION</td>\n",
              "      <td>9</td>\n",
              "      <td>0</td>\n",
              "      <td>0.000000</td>\n",
              "    </tr>\n",
              "    <tr>\n",
              "      <th>11</th>\n",
              "      <td>CONSOLIDATE</td>\n",
              "      <td>9</td>\n",
              "      <td>0</td>\n",
              "      <td>0.000000</td>\n",
              "    </tr>\n",
              "    <tr>\n",
              "      <th>34</th>\n",
              "      <td>Credit Loan</td>\n",
              "      <td>10</td>\n",
              "      <td>0</td>\n",
              "      <td>0.000000</td>\n",
              "    </tr>\n",
              "    <tr>\n",
              "      <th>87</th>\n",
              "      <td>cards</td>\n",
              "      <td>10</td>\n",
              "      <td>0</td>\n",
              "      <td>0.000000</td>\n",
              "    </tr>\n",
              "    <tr>\n",
              "      <th>103</th>\n",
              "      <td>pay off bills</td>\n",
              "      <td>10</td>\n",
              "      <td>0</td>\n",
              "      <td>0.000000</td>\n",
              "    </tr>\n",
              "    <tr>\n",
              "      <th>10</th>\n",
              "      <td>CC-Refinance</td>\n",
              "      <td>13</td>\n",
              "      <td>0</td>\n",
              "      <td>0.000000</td>\n",
              "    </tr>\n",
              "    <tr>\n",
              "      <th>4</th>\n",
              "      <td>CC</td>\n",
              "      <td>6</td>\n",
              "      <td>0</td>\n",
              "      <td>0.000000</td>\n",
              "    </tr>\n",
              "    <tr>\n",
              "      <th>93</th>\n",
              "      <td>credit card consolidation</td>\n",
              "      <td>11</td>\n",
              "      <td>0</td>\n",
              "      <td>0.000000</td>\n",
              "    </tr>\n",
              "    <tr>\n",
              "      <th>95</th>\n",
              "      <td>credit pay off</td>\n",
              "      <td>9</td>\n",
              "      <td>0</td>\n",
              "      <td>0.000000</td>\n",
              "    </tr>\n",
              "    <tr>\n",
              "      <th>63</th>\n",
              "      <td>Lending Club</td>\n",
              "      <td>32</td>\n",
              "      <td>1</td>\n",
              "      <td>0.031250</td>\n",
              "    </tr>\n",
              "    <tr>\n",
              "      <th>45</th>\n",
              "      <td>Debt Free</td>\n",
              "      <td>22</td>\n",
              "      <td>1</td>\n",
              "      <td>0.045455</td>\n",
              "    </tr>\n",
              "    <tr>\n",
              "      <th>66</th>\n",
              "      <td>Loan 1</td>\n",
              "      <td>21</td>\n",
              "      <td>1</td>\n",
              "      <td>0.047619</td>\n",
              "    </tr>\n",
              "    <tr>\n",
              "      <th>89</th>\n",
              "      <td>consolidate</td>\n",
              "      <td>42</td>\n",
              "      <td>2</td>\n",
              "      <td>0.047619</td>\n",
              "    </tr>\n",
              "    <tr>\n",
              "      <th>46</th>\n",
              "      <td>Debt Loan</td>\n",
              "      <td>19</td>\n",
              "      <td>1</td>\n",
              "      <td>0.052632</td>\n",
              "    </tr>\n",
              "    <tr>\n",
              "      <th>57</th>\n",
              "      <td>Home Improvement</td>\n",
              "      <td>68</td>\n",
              "      <td>4</td>\n",
              "      <td>0.058824</td>\n",
              "    </tr>\n",
              "    <tr>\n",
              "      <th>81</th>\n",
              "      <td>Pool</td>\n",
              "      <td>17</td>\n",
              "      <td>1</td>\n",
              "      <td>0.058824</td>\n",
              "    </tr>\n",
              "    <tr>\n",
              "      <th>77</th>\n",
              "      <td>Payoff</td>\n",
              "      <td>33</td>\n",
              "      <td>2</td>\n",
              "      <td>0.060606</td>\n",
              "    </tr>\n",
              "    <tr>\n",
              "      <th>15</th>\n",
              "      <td>Card Consolidation</td>\n",
              "      <td>16</td>\n",
              "      <td>1</td>\n",
              "      <td>0.062500</td>\n",
              "    </tr>\n",
              "    <tr>\n",
              "      <th>37</th>\n",
              "      <td>Credit card refinance</td>\n",
              "      <td>31</td>\n",
              "      <td>2</td>\n",
              "      <td>0.064516</td>\n",
              "    </tr>\n",
              "    <tr>\n",
              "      <th>52</th>\n",
              "      <td>Freedom</td>\n",
              "      <td>45</td>\n",
              "      <td>3</td>\n",
              "      <td>0.066667</td>\n",
              "    </tr>\n",
              "    <tr>\n",
              "      <th>101</th>\n",
              "      <td>home improvement</td>\n",
              "      <td>15</td>\n",
              "      <td>1</td>\n",
              "      <td>0.066667</td>\n",
              "    </tr>\n",
              "    <tr>\n",
              "      <th>8</th>\n",
              "      <td>CC Refinance</td>\n",
              "      <td>15</td>\n",
              "      <td>1</td>\n",
              "      <td>0.066667</td>\n",
              "    </tr>\n",
              "    <tr>\n",
              "      <th>1</th>\n",
              "      <td>Bill Consolidation</td>\n",
              "      <td>15</td>\n",
              "      <td>1</td>\n",
              "      <td>0.066667</td>\n",
              "    </tr>\n",
              "    <tr>\n",
              "      <th>84</th>\n",
              "      <td>Vacation</td>\n",
              "      <td>114</td>\n",
              "      <td>8</td>\n",
              "      <td>0.070175</td>\n",
              "    </tr>\n",
              "    <tr>\n",
              "      <th>44</th>\n",
              "      <td>Debt Consolidation Loan</td>\n",
              "      <td>71</td>\n",
              "      <td>5</td>\n",
              "      <td>0.070423</td>\n",
              "    </tr>\n",
              "    <tr>\n",
              "      <th>0</th>\n",
              "      <td>Bathroom</td>\n",
              "      <td>14</td>\n",
              "      <td>1</td>\n",
              "      <td>0.071429</td>\n",
              "    </tr>\n",
              "    <tr>\n",
              "      <th>5</th>\n",
              "      <td>CC Consolidation</td>\n",
              "      <td>14</td>\n",
              "      <td>1</td>\n",
              "      <td>0.071429</td>\n",
              "    </tr>\n",
              "    <tr>\n",
              "      <th>71</th>\n",
              "      <td>Medical expenses</td>\n",
              "      <td>237</td>\n",
              "      <td>18</td>\n",
              "      <td>0.075949</td>\n",
              "    </tr>\n",
              "    <tr>\n",
              "      <th>3</th>\n",
              "      <td>Business</td>\n",
              "      <td>183</td>\n",
              "      <td>14</td>\n",
              "      <td>0.076503</td>\n",
              "    </tr>\n",
              "    <tr>\n",
              "      <th>102</th>\n",
              "      <td>loan1</td>\n",
              "      <td>13</td>\n",
              "      <td>1</td>\n",
              "      <td>0.076923</td>\n",
              "    </tr>\n",
              "    <tr>\n",
              "      <th>56</th>\n",
              "      <td>Home</td>\n",
              "      <td>13</td>\n",
              "      <td>1</td>\n",
              "      <td>0.076923</td>\n",
              "    </tr>\n",
              "    <tr>\n",
              "      <th>90</th>\n",
              "      <td>consolidation</td>\n",
              "      <td>51</td>\n",
              "      <td>4</td>\n",
              "      <td>0.078431</td>\n",
              "    </tr>\n",
              "    <tr>\n",
              "      <th>29</th>\n",
              "      <td>Credit Card Refinance</td>\n",
              "      <td>38</td>\n",
              "      <td>3</td>\n",
              "      <td>0.078947</td>\n",
              "    </tr>\n",
              "    <tr>\n",
              "      <th>42</th>\n",
              "      <td>Debt Consolidation</td>\n",
              "      <td>3544</td>\n",
              "      <td>290</td>\n",
              "      <td>0.081828</td>\n",
              "    </tr>\n",
              "    <tr>\n",
              "      <th>40</th>\n",
              "      <td>DEBT CONSOLIDATION</td>\n",
              "      <td>46</td>\n",
              "      <td>4</td>\n",
              "      <td>0.086957</td>\n",
              "    </tr>\n",
              "    <tr>\n",
              "      <th>65</th>\n",
              "      <td>Loan</td>\n",
              "      <td>34</td>\n",
              "      <td>3</td>\n",
              "      <td>0.088235</td>\n",
              "    </tr>\n",
              "    <tr>\n",
              "      <th>22</th>\n",
              "      <td>Credit Card</td>\n",
              "      <td>34</td>\n",
              "      <td>3</td>\n",
              "      <td>0.088235</td>\n",
              "    </tr>\n",
              "    <tr>\n",
              "      <th>55</th>\n",
              "      <td>Green loan</td>\n",
              "      <td>45</td>\n",
              "      <td>4</td>\n",
              "      <td>0.088889</td>\n",
              "    </tr>\n",
              "    <tr>\n",
              "      <th>75</th>\n",
              "      <td>Other</td>\n",
              "      <td>2455</td>\n",
              "      <td>221</td>\n",
              "      <td>0.090020</td>\n",
              "    </tr>\n",
              "    <tr>\n",
              "      <th>49</th>\n",
              "      <td>Debt consolidation</td>\n",
              "      <td>24841</td>\n",
              "      <td>2249</td>\n",
              "      <td>0.090536</td>\n",
              "    </tr>\n",
              "    <tr>\n",
              "      <th>36</th>\n",
              "      <td>Credit card payoff</td>\n",
              "      <td>32</td>\n",
              "      <td>3</td>\n",
              "      <td>0.093750</td>\n",
              "    </tr>\n",
              "    <tr>\n",
              "      <th>32</th>\n",
              "      <td>Credit Cards</td>\n",
              "      <td>32</td>\n",
              "      <td>3</td>\n",
              "      <td>0.093750</td>\n",
              "    </tr>\n",
              "    <tr>\n",
              "      <th>38</th>\n",
              "      <td>Credit card refinancing</td>\n",
              "      <td>30728</td>\n",
              "      <td>2888</td>\n",
              "      <td>0.093986</td>\n",
              "    </tr>\n",
              "    <tr>\n",
              "      <th>96</th>\n",
              "      <td>debt</td>\n",
              "      <td>21</td>\n",
              "      <td>2</td>\n",
              "      <td>0.095238</td>\n",
              "    </tr>\n",
              "    <tr>\n",
              "      <th>60</th>\n",
              "      <td>Home improvement</td>\n",
              "      <td>2211</td>\n",
              "      <td>211</td>\n",
              "      <td>0.095432</td>\n",
              "    </tr>\n",
              "    <tr>\n",
              "      <th>69</th>\n",
              "      <td>Major purchase</td>\n",
              "      <td>487</td>\n",
              "      <td>48</td>\n",
              "      <td>0.098563</td>\n",
              "    </tr>\n",
              "    <tr>\n",
              "      <th>88</th>\n",
              "      <td>conso</td>\n",
              "      <td>10</td>\n",
              "      <td>1</td>\n",
              "      <td>0.100000</td>\n",
              "    </tr>\n",
              "    <tr>\n",
              "      <th>73</th>\n",
              "      <td>Moving and relocation</td>\n",
              "      <td>157</td>\n",
              "      <td>16</td>\n",
              "      <td>0.101911</td>\n",
              "    </tr>\n",
              "    <tr>\n",
              "      <th>19</th>\n",
              "      <td>Consolidation</td>\n",
              "      <td>97</td>\n",
              "      <td>10</td>\n",
              "      <td>0.103093</td>\n",
              "    </tr>\n",
              "    <tr>\n",
              "      <th>17</th>\n",
              "      <td>Consolidate</td>\n",
              "      <td>55</td>\n",
              "      <td>6</td>\n",
              "      <td>0.109091</td>\n",
              "    </tr>\n",
              "    <tr>\n",
              "      <th>20</th>\n",
              "      <td>Consolidation Loan</td>\n",
              "      <td>55</td>\n",
              "      <td>6</td>\n",
              "      <td>0.109091</td>\n",
              "    </tr>\n",
              "  </tbody>\n",
              "</table>\n",
              "</div>\n",
              "      <button class=\"colab-df-convert\" onclick=\"convertToInteractive('df-8c3e3d84-afd9-4d2c-9c78-101db48ba9fd')\"\n",
              "              title=\"Convert this dataframe to an interactive table.\"\n",
              "              style=\"display:none;\">\n",
              "        \n",
              "  <svg xmlns=\"http://www.w3.org/2000/svg\" height=\"24px\"viewBox=\"0 0 24 24\"\n",
              "       width=\"24px\">\n",
              "    <path d=\"M0 0h24v24H0V0z\" fill=\"none\"/>\n",
              "    <path d=\"M18.56 5.44l.94 2.06.94-2.06 2.06-.94-2.06-.94-.94-2.06-.94 2.06-2.06.94zm-11 1L8.5 8.5l.94-2.06 2.06-.94-2.06-.94L8.5 2.5l-.94 2.06-2.06.94zm10 10l.94 2.06.94-2.06 2.06-.94-2.06-.94-.94-2.06-.94 2.06-2.06.94z\"/><path d=\"M17.41 7.96l-1.37-1.37c-.4-.4-.92-.59-1.43-.59-.52 0-1.04.2-1.43.59L10.3 9.45l-7.72 7.72c-.78.78-.78 2.05 0 2.83L4 21.41c.39.39.9.59 1.41.59.51 0 1.02-.2 1.41-.59l7.78-7.78 2.81-2.81c.8-.78.8-2.07 0-2.86zM5.41 20L4 18.59l7.72-7.72 1.47 1.35L5.41 20z\"/>\n",
              "  </svg>\n",
              "      </button>\n",
              "      \n",
              "  <style>\n",
              "    .colab-df-container {\n",
              "      display:flex;\n",
              "      flex-wrap:wrap;\n",
              "      gap: 12px;\n",
              "    }\n",
              "\n",
              "    .colab-df-convert {\n",
              "      background-color: #E8F0FE;\n",
              "      border: none;\n",
              "      border-radius: 50%;\n",
              "      cursor: pointer;\n",
              "      display: none;\n",
              "      fill: #1967D2;\n",
              "      height: 32px;\n",
              "      padding: 0 0 0 0;\n",
              "      width: 32px;\n",
              "    }\n",
              "\n",
              "    .colab-df-convert:hover {\n",
              "      background-color: #E2EBFA;\n",
              "      box-shadow: 0px 1px 2px rgba(60, 64, 67, 0.3), 0px 1px 3px 1px rgba(60, 64, 67, 0.15);\n",
              "      fill: #174EA6;\n",
              "    }\n",
              "\n",
              "    [theme=dark] .colab-df-convert {\n",
              "      background-color: #3B4455;\n",
              "      fill: #D2E3FC;\n",
              "    }\n",
              "\n",
              "    [theme=dark] .colab-df-convert:hover {\n",
              "      background-color: #434B5C;\n",
              "      box-shadow: 0px 1px 3px 1px rgba(0, 0, 0, 0.15);\n",
              "      filter: drop-shadow(0px 1px 2px rgba(0, 0, 0, 0.3));\n",
              "      fill: #FFFFFF;\n",
              "    }\n",
              "  </style>\n",
              "\n",
              "      <script>\n",
              "        const buttonEl =\n",
              "          document.querySelector('#df-8c3e3d84-afd9-4d2c-9c78-101db48ba9fd button.colab-df-convert');\n",
              "        buttonEl.style.display =\n",
              "          google.colab.kernel.accessAllowed ? 'block' : 'none';\n",
              "\n",
              "        async function convertToInteractive(key) {\n",
              "          const element = document.querySelector('#df-8c3e3d84-afd9-4d2c-9c78-101db48ba9fd');\n",
              "          const dataTable =\n",
              "            await google.colab.kernel.invokeFunction('convertToInteractive',\n",
              "                                                     [key], {});\n",
              "          if (!dataTable) return;\n",
              "\n",
              "          const docLinkHtml = 'Like what you see? Visit the ' +\n",
              "            '<a target=\"_blank\" href=https://colab.research.google.com/notebooks/data_table.ipynb>data table notebook</a>'\n",
              "            + ' to learn more about interactive tables.';\n",
              "          element.innerHTML = '';\n",
              "          dataTable['output_type'] = 'display_data';\n",
              "          await google.colab.output.renderOutput(dataTable, element);\n",
              "          const docLink = document.createElement('div');\n",
              "          docLink.innerHTML = docLinkHtml;\n",
              "          element.appendChild(docLink);\n",
              "        }\n",
              "      </script>\n",
              "    </div>\n",
              "  </div>\n",
              "  "
            ],
            "text/plain": [
              "                    Loan Title  Contador  Loan Status  LoanTitle%\n",
              "108                   vacation        10            0    0.000000\n",
              "43     Debt Consolidation 2013         6            0    0.000000\n",
              "50                 Debt payoff         7            0    0.000000\n",
              "26         Credit Card Paydown         9            0    0.000000\n",
              "21                      Credit         4            0    0.000000\n",
              "72                Medical loan         9            0    0.000000\n",
              "18                Consolidated        13            0    0.000000\n",
              "80               Personal loan         5            0    0.000000\n",
              "13                    Car Loan         9            0    0.000000\n",
              "12               CONSOLIDATION         9            0    0.000000\n",
              "11                 CONSOLIDATE         9            0    0.000000\n",
              "34                 Credit Loan        10            0    0.000000\n",
              "87                       cards        10            0    0.000000\n",
              "103              pay off bills        10            0    0.000000\n",
              "10                CC-Refinance        13            0    0.000000\n",
              "4                           CC         6            0    0.000000\n",
              "93   credit card consolidation        11            0    0.000000\n",
              "95              credit pay off         9            0    0.000000\n",
              "63                Lending Club        32            1    0.031250\n",
              "45                   Debt Free        22            1    0.045455\n",
              "66                      Loan 1        21            1    0.047619\n",
              "89                 consolidate        42            2    0.047619\n",
              "46                   Debt Loan        19            1    0.052632\n",
              "57            Home Improvement        68            4    0.058824\n",
              "81                        Pool        17            1    0.058824\n",
              "77                      Payoff        33            2    0.060606\n",
              "15          Card Consolidation        16            1    0.062500\n",
              "37       Credit card refinance        31            2    0.064516\n",
              "52                     Freedom        45            3    0.066667\n",
              "101           home improvement        15            1    0.066667\n",
              "8                 CC Refinance        15            1    0.066667\n",
              "1           Bill Consolidation        15            1    0.066667\n",
              "84                    Vacation       114            8    0.070175\n",
              "44     Debt Consolidation Loan        71            5    0.070423\n",
              "0                     Bathroom        14            1    0.071429\n",
              "5             CC Consolidation        14            1    0.071429\n",
              "71            Medical expenses       237           18    0.075949\n",
              "3                     Business       183           14    0.076503\n",
              "102                      loan1        13            1    0.076923\n",
              "56                        Home        13            1    0.076923\n",
              "90               consolidation        51            4    0.078431\n",
              "29       Credit Card Refinance        38            3    0.078947\n",
              "42          Debt Consolidation      3544          290    0.081828\n",
              "40          DEBT CONSOLIDATION        46            4    0.086957\n",
              "65                        Loan        34            3    0.088235\n",
              "22                 Credit Card        34            3    0.088235\n",
              "55                  Green loan        45            4    0.088889\n",
              "75                       Other      2455          221    0.090020\n",
              "49          Debt consolidation     24841         2249    0.090536\n",
              "36          Credit card payoff        32            3    0.093750\n",
              "32                Credit Cards        32            3    0.093750\n",
              "38     Credit card refinancing     30728         2888    0.093986\n",
              "96                        debt        21            2    0.095238\n",
              "60            Home improvement      2211          211    0.095432\n",
              "69              Major purchase       487           48    0.098563\n",
              "88                       conso        10            1    0.100000\n",
              "73       Moving and relocation       157           16    0.101911\n",
              "19               Consolidation        97           10    0.103093\n",
              "17                 Consolidate        55            6    0.109091\n",
              "20          Consolidation Loan        55            6    0.109091"
            ]
          },
          "metadata": {},
          "execution_count": 55
        }
      ]
    },
    {
      "cell_type": "code",
      "metadata": {
        "colab": {
          "base_uri": "https://localhost:8080/"
        },
        "id": "J7pfKILKZDub",
        "outputId": "8d0e2f43-ec50-491b-f5c8-7c1875385c08"
      },
      "source": [
        "#I am going to split in 4 classes.\n",
        "countsum_LoanTitle['LoanTitle%'].describe() "
      ],
      "execution_count": null,
      "outputs": [
        {
          "output_type": "execute_result",
          "data": {
            "text/plain": [
              "count    109.000000\n",
              "mean       0.105381\n",
              "std        0.078955\n",
              "min        0.000000\n",
              "25%        0.064516\n",
              "50%        0.098563\n",
              "75%        0.142857\n",
              "max        0.500000\n",
              "Name: LoanTitle%, dtype: float64"
            ]
          },
          "metadata": {},
          "execution_count": 56
        }
      ]
    },
    {
      "cell_type": "code",
      "metadata": {
        "id": "mcTKPjSjZDyF"
      },
      "source": [
        "countsum_LoanTitle['Classe_LoanTitle']=0\n",
        "countsum_LoanTitle.loc[countsum_LoanTitle['LoanTitle%']<0.064516, 'Classe_LoanTitle']=0\n",
        "countsum_LoanTitle.loc[(countsum_LoanTitle['LoanTitle%']>=0.064516)&(countsum_LoanTitle['LoanTitle%']<0.098563), 'Classe_LoanTitle']=1\n",
        "countsum_LoanTitle.loc[(countsum_LoanTitle['LoanTitle%']>=0.098563)&(countsum_LoanTitle['LoanTitle%']<0.142857), 'Classe_LoanTitle']=2\n",
        "countsum_LoanTitle.loc[countsum_LoanTitle['LoanTitle%']>=0.142857, 'Classe_LoanTitle']=3"
      ],
      "execution_count": null,
      "outputs": []
    },
    {
      "cell_type": "code",
      "metadata": {
        "id": "WN-IF0dUZD2J"
      },
      "source": [
        "countsum_LoanTitle=countsum_LoanTitle[['Loan Title', 'Classe_LoanTitle']]"
      ],
      "execution_count": null,
      "outputs": []
    },
    {
      "cell_type": "code",
      "metadata": {
        "id": "bm77PfgFZD4W"
      },
      "source": [
        "df=pd.merge(df, countsum_LoanTitle, how='inner', on='Loan Title')\n",
        "test=pd.merge(test, countsum_LoanTitle, how='left', on='Loan Title')"
      ],
      "execution_count": null,
      "outputs": []
    },
    {
      "cell_type": "code",
      "metadata": {
        "id": "YzCaOCKcZD87"
      },
      "source": [
        "df.drop('Loan Title', axis=1,inplace=True)\n",
        "test.drop('Loan Title', axis=1,inplace=True)"
      ],
      "execution_count": null,
      "outputs": []
    },
    {
      "cell_type": "markdown",
      "source": [
        "- Initial List Status"
      ],
      "metadata": {
        "id": "yoXDP2GW6Xhk"
      }
    },
    {
      "cell_type": "code",
      "metadata": {
        "colab": {
          "base_uri": "https://localhost:8080/"
        },
        "id": "ODGTTCi2i9SX",
        "outputId": "dc7aacf2-d0db-4b58-ca0c-61f2d23897cb"
      },
      "source": [
        "df['Initial List Status'].value_counts()"
      ],
      "execution_count": null,
      "outputs": [
        {
          "output_type": "execute_result",
          "data": {
            "text/plain": [
              "w    36299\n",
              "f    31164\n",
              "Name: Initial List Status, dtype: int64"
            ]
          },
          "metadata": {},
          "execution_count": 61
        }
      ]
    },
    {
      "cell_type": "code",
      "source": [
        "# Let's visualize the proportion of the classes\n",
        "sns.countplot(df['Initial List Status'], hue=df['Loan Status'])"
      ],
      "metadata": {
        "colab": {
          "base_uri": "https://localhost:8080/",
          "height": 296
        },
        "id": "GjqTQ3FA6ngU",
        "outputId": "29d11b9d-090e-49de-b20a-bd6203a89d75"
      },
      "execution_count": null,
      "outputs": [
        {
          "output_type": "execute_result",
          "data": {
            "text/plain": [
              "<matplotlib.axes._subplots.AxesSubplot at 0x7f42a85c0f90>"
            ]
          },
          "metadata": {},
          "execution_count": 62
        },
        {
          "output_type": "display_data",
          "data": {
            "image/png": "[encoded data removed]",
            "text/plain": [
              "<Figure size 432x288 with 1 Axes>"
            ]
          },
          "metadata": {
            "needs_background": "light"
          }
        }
      ]
    },
    {
      "cell_type": "code",
      "metadata": {
        "id": "ThbITW68oBGt"
      },
      "source": [
        "# We are going to do a label encoder\n",
        "le = preprocessing.LabelEncoder()\n",
        "df['Classe_Initial List Status']=le.fit_transform(df['Initial List Status'])\n",
        "test['Classe_Initial List Status']=le.transform(test['Initial List Status'])"
      ],
      "execution_count": null,
      "outputs": []
    },
    {
      "cell_type": "code",
      "metadata": {
        "id": "kstEyGmtoBGt"
      },
      "source": [
        "df.drop('Initial List Status', axis=1, inplace=True)\n",
        "test.drop('Initial List Status', axis=1, inplace=True)"
      ],
      "execution_count": null,
      "outputs": []
    },
    {
      "cell_type": "markdown",
      "source": [
        "- Application Type"
      ],
      "metadata": {
        "id": "wmp4NX967IbP"
      }
    },
    {
      "cell_type": "markdown",
      "source": [
        "As we can see, this features has only 2 classes, JOINT and INDIVIDUAL. In train dataset there are 67340 rows with Individual and only 123 with JOINT.\n",
        "\n",
        "Besides, the proportion of 1s and 0s in each class are almost the same. We can conclude that this feature won't bring any information to our model, is irrelevant, so we are going to drop it."
      ],
      "metadata": {
        "id": "-DUVDjQywzuM"
      }
    },
    {
      "cell_type": "code",
      "metadata": {
        "colab": {
          "base_uri": "https://localhost:8080/"
        },
        "id": "DI_e2CBNoxj7",
        "outputId": "d002faf6-8e04-4c16-a61c-a5c9a73cfa32"
      },
      "source": [
        "df['Application Type'].unique()"
      ],
      "execution_count": null,
      "outputs": [
        {
          "output_type": "execute_result",
          "data": {
            "text/plain": [
              "array(['INDIVIDUAL', 'JOINT'], dtype=object)"
            ]
          },
          "metadata": {},
          "execution_count": 65
        }
      ]
    },
    {
      "cell_type": "code",
      "metadata": {
        "colab": {
          "base_uri": "https://localhost:8080/"
        },
        "id": "QiXe3iedoxmZ",
        "outputId": "48dad691-b5aa-4958-dc82-23f877878f92"
      },
      "source": [
        "len(df.loc[df['Application Type']=='INDIVIDUAL', 'Application Type'])"
      ],
      "execution_count": null,
      "outputs": [
        {
          "output_type": "execute_result",
          "data": {
            "text/plain": [
              "67340"
            ]
          },
          "metadata": {},
          "execution_count": 66
        }
      ]
    },
    {
      "cell_type": "code",
      "metadata": {
        "colab": {
          "base_uri": "https://localhost:8080/"
        },
        "id": "HVagvutCoxqS",
        "outputId": "918b3b54-749b-448b-ee3d-1dfd6a28c959"
      },
      "source": [
        "df.loc[df['Application Type']=='JOINT','Loan Status'].value_counts(), 11/112"
      ],
      "execution_count": null,
      "outputs": [
        {
          "output_type": "execute_result",
          "data": {
            "text/plain": [
              "(0    112\n",
              " 1     11\n",
              " Name: Loan Status, dtype: int64, 0.09821428571428571)"
            ]
          },
          "metadata": {},
          "execution_count": 67
        }
      ]
    },
    {
      "cell_type": "code",
      "source": [
        "# Let's visualize the proportion of the classes and notice how irrelevant for the dataset is this feature.\n",
        "sns.countplot(df['Application Type'], hue=df['Loan Status'])"
      ],
      "metadata": {
        "colab": {
          "base_uri": "https://localhost:8080/",
          "height": 296
        },
        "id": "OIekDVdhxpKU",
        "outputId": "639a05d0-a085-4320-c329-4c10ece4c650"
      },
      "execution_count": null,
      "outputs": [
        {
          "output_type": "execute_result",
          "data": {
            "text/plain": [
              "<matplotlib.axes._subplots.AxesSubplot at 0x7f42a82b8990>"
            ]
          },
          "metadata": {},
          "execution_count": 68
        },
        {
          "output_type": "display_data",
          "data": {
            "image/png": "[encoded data removed]",
            "text/plain": [
              "<Figure size 432x288 with 1 Axes>"
            ]
          },
          "metadata": {
            "needs_background": "light"
          }
        }
      ]
    },
    {
      "cell_type": "code",
      "metadata": {
        "id": "OmT5DLymUm0b"
      },
      "source": [
        "\n",
        "df.drop('Application Type', axis=1, inplace=True)\n",
        "test.drop('Application Type', axis=1, inplace=True)"
      ],
      "execution_count": null,
      "outputs": []
    },
    {
      "cell_type": "markdown",
      "source": [
        "Now that all the features are numeric, let's take a look at the correlation of pearson of the features in relation to the target.\n",
        "\n",
        "We can see that the most correlated features are the ones that were engeneered."
      ],
      "metadata": {
        "id": "j3_Je7O98CWR"
      }
    },
    {
      "cell_type": "code",
      "metadata": {
        "colab": {
          "base_uri": "https://localhost:8080/"
        },
        "id": "e1oAZqsLqcio",
        "outputId": "0bebfd21-4d57-48c4-e0e9-4e26091fcd12"
      },
      "source": [
        "df.corr()['Loan Status'].sort_values(ascending=False) "
      ],
      "execution_count": null,
      "outputs": [
        {
          "output_type": "execute_result",
          "data": {
            "text/plain": [
              "Loan Status                     1.000000\n",
              "Classe_LoanTitle                0.034949\n",
              "Classe_Batch_Enrolled           0.022428\n",
              "Classe_EmplymentDuration        0.011927\n",
              "Classe_Grade                    0.011417\n",
              "Public Record                   0.010590\n",
              "Delinquency - two years         0.009990\n",
              "Total Current Balance           0.009828\n",
              "Total Received Late Fee         0.009365\n",
              "Total Collection Amount         0.007892\n",
              "Last week Pay                   0.006117\n",
              "Revolving Utilities             0.004120\n",
              "Home Ownership                  0.003716\n",
              "Sub Grade                       0.003675\n",
              "Interest Rate                   0.002900\n",
              "Total Received Interest         0.001680\n",
              "Total Revolving Credit Limit    0.001454\n",
              "Funded Amount                   0.001364\n",
              "Inquires - six months           0.000578\n",
              "Total Accounts                  0.000222\n",
              "Funded Amount Investor         -0.000091\n",
              "Recoveries                     -0.000652\n",
              "Collection 12 months Medical   -0.000686\n",
              "Revolving Balance              -0.001073\n",
              "Classe_Verification Status     -0.001143\n",
              "Debit to Income                -0.003057\n",
              "Term                           -0.003410\n",
              "Collection Recovery Fee        -0.003828\n",
              "Loan Amount                    -0.004473\n",
              "Open Account                   -0.007073\n",
              "Classe_Initial List Status     -0.013445\n",
              "Accounts Delinquent                  NaN\n",
              "Name: Loan Status, dtype: float64"
            ]
          },
          "metadata": {},
          "execution_count": 70
        }
      ]
    },
    {
      "cell_type": "markdown",
      "source": [
        "Note that the correlation of Accounts Delinquent with Loan Status brought a NaN. That is because Accounts Delinquent only has 0s. We are going to exclude this feature."
      ],
      "metadata": {
        "id": "uEqqfDin8k48"
      }
    },
    {
      "cell_type": "code",
      "metadata": {
        "colab": {
          "base_uri": "https://localhost:8080/"
        },
        "id": "nijcTewOqcq2",
        "outputId": "af332a74-ea68-4482-ce85-22bc5555a87b"
      },
      "source": [
        "df['Accounts Delinquent'].value_counts()"
      ],
      "execution_count": null,
      "outputs": [
        {
          "output_type": "execute_result",
          "data": {
            "text/plain": [
              "0    67463\n",
              "Name: Accounts Delinquent, dtype: int64"
            ]
          },
          "metadata": {},
          "execution_count": 71
        }
      ]
    },
    {
      "cell_type": "code",
      "metadata": {
        "id": "NvDmQYV9x4u2"
      },
      "source": [
        "\n",
        "df.drop('Accounts Delinquent', axis=1, inplace=True)\n",
        "test.drop('Accounts Delinquent', axis=1, inplace=True)"
      ],
      "execution_count": null,
      "outputs": []
    },
    {
      "cell_type": "code",
      "source": [
        "df.info()"
      ],
      "metadata": {
        "colab": {
          "base_uri": "https://localhost:8080/"
        },
        "id": "8VqzFHI3yvfq",
        "outputId": "cb3f02b1-7bce-4ba8-f7e3-5d22827be34a"
      },
      "execution_count": null,
      "outputs": [
        {
          "output_type": "stream",
          "name": "stdout",
          "text": [
            "<class 'pandas.core.frame.DataFrame'>\n",
            "Int64Index: 67463 entries, 0 to 67462\n",
            "Data columns (total 31 columns):\n",
            " #   Column                        Non-Null Count  Dtype  \n",
            "---  ------                        --------------  -----  \n",
            " 0   Loan Amount                   67463 non-null  int64  \n",
            " 1   Funded Amount                 67463 non-null  int64  \n",
            " 2   Funded Amount Investor        67463 non-null  float64\n",
            " 3   Term                          67463 non-null  int64  \n",
            " 4   Interest Rate                 67463 non-null  float64\n",
            " 5   Sub Grade                     67463 non-null  int64  \n",
            " 6   Home Ownership                67463 non-null  float64\n",
            " 7   Debit to Income               67463 non-null  float64\n",
            " 8   Delinquency - two years       67463 non-null  int64  \n",
            " 9   Inquires - six months         67463 non-null  int64  \n",
            " 10  Open Account                  67463 non-null  int64  \n",
            " 11  Public Record                 67463 non-null  int64  \n",
            " 12  Revolving Balance             67463 non-null  int64  \n",
            " 13  Revolving Utilities           67463 non-null  float64\n",
            " 14  Total Accounts                67463 non-null  int64  \n",
            " 15  Total Received Interest       67463 non-null  float64\n",
            " 16  Total Received Late Fee       67463 non-null  float64\n",
            " 17  Recoveries                    67463 non-null  float64\n",
            " 18  Collection Recovery Fee       67463 non-null  float64\n",
            " 19  Collection 12 months Medical  67463 non-null  int64  \n",
            " 20  Last week Pay                 67463 non-null  int64  \n",
            " 21  Total Collection Amount       67463 non-null  int64  \n",
            " 22  Total Current Balance         67463 non-null  int64  \n",
            " 23  Total Revolving Credit Limit  67463 non-null  int64  \n",
            " 24  Loan Status                   67463 non-null  int64  \n",
            " 25  Classe_Batch_Enrolled         67463 non-null  int64  \n",
            " 26  Classe_Grade                  67463 non-null  int64  \n",
            " 27  Classe_EmplymentDuration      67463 non-null  int64  \n",
            " 28  Classe_Verification Status    67463 non-null  int64  \n",
            " 29  Classe_LoanTitle              67463 non-null  int64  \n",
            " 30  Classe_Initial List Status    67463 non-null  int64  \n",
            "dtypes: float64(9), int64(22)\n",
            "memory usage: 19.0 MB\n"
          ]
        }
      ]
    },
    {
      "cell_type": "markdown",
      "source": [
        "Before finishing our analysis, is useful to take a look at Pandas Profiling."
      ],
      "metadata": {
        "id": "LEZtsJ9c4kMl"
      }
    },
    {
      "cell_type": "code",
      "source": [
        "\n",
        "## Pandas Profiling \n",
        "!pip install pandas-profiling==2.8.0\n",
        "\n",
        "from pandas_profiling import ProfileReport\n",
        "\n",
        "profile = ProfileReport(df, title='Análise Exploratória dos Dados', html={'style':{'full_width':True}}) \n",
        "\n",
        "profile.to_notebook_iframe()\n",
        "\n",
        "profile.to_file(output_file=\"Análise_Exploratória_dos_Dados.html\")\n"
      ],
      "metadata": {
        "colab": {
          "base_uri": "https://localhost:8080/",
          "height": 70
        },
        "id": "uMY4qNsx5DFZ",
        "outputId": "71ff1c3b-fcdb-4edd-d174-e1c5279d16b6"
      },
      "execution_count": null,
      "outputs": [
        {
          "output_type": "execute_result",
          "data": {
            "application/vnd.google.colaboratory.intrinsic+json": {
              "type": "string"
            },
            "text/plain": [
              "'\\n## Pandas Profiling \\n!pip install pandas-profiling==2.8.0\\n\\nfrom pandas_profiling import ProfileReport\\n\\nprofile = ProfileReport(df, title=\\'Análise Exploratória dos Dados\\', html={\\'style\\':{\\'full_width\\':True}}) \\n\\nprofile.to_notebook_iframe()\\n\\nprofile.to_file(output_file=\"Análise_Exploratória_dos_Dados.html\")\\n'"
            ]
          },
          "metadata": {},
          "execution_count": 74
        }
      ]
    },
    {
      "cell_type": "markdown",
      "source": [
        "We finished our feature analysis with 30 explanatory variables. Must be highlighted that our model will be a tree based model, so the presence of multicollinearity tend to 0. Thats's why I didn't analize the correlations between the explanatory variables, neither did a big work in feature selection.\n",
        "\n"
      ],
      "metadata": {
        "id": "1bCV8QtFy1tA"
      }
    },
    {
      "cell_type": "markdown",
      "source": [
        "Let's make the data sampling."
      ],
      "metadata": {
        "id": "VyZEHBSxKC7W"
      }
    },
    {
      "cell_type": "code",
      "metadata": {
        "id": "iKjX1wi2uAcr"
      },
      "source": [
        "# Spliting the explanatory variables from the target.\n",
        "y=df['Loan Status']\n",
        "x=df.drop('Loan Status', axis=1)\n",
        "test.drop('Loan Status', axis=1, inplace=True)"
      ],
      "execution_count": null,
      "outputs": []
    },
    {
      "cell_type": "code",
      "metadata": {
        "id": "7ENg-hF_tyot"
      },
      "source": [
        "# Spliting the data in training and validation set. As we are going to work with a tree based model, it won't be necessary to standardizate/ normalize de data\n",
        "from sklearn.model_selection import train_test_split\n",
        "x_train, x_val, y_train, y_val = train_test_split(x, y, test_size=0.2, stratify=y, random_state=50) "
      ],
      "execution_count": null,
      "outputs": []
    },
    {
      "cell_type": "markdown",
      "source": [
        "Now we are going to oversample our data and explain the reason why the sampling_strategy chosen was 0.11.\n",
        "\n",
        "Before using the smote, the mean of the probability that the model brought was something between 9.5~10.5. However, from the feedback gived from the public leaderborad, using the Log Loss metric, and using the mean of my submission, I could calculate the mean of the public leaderboard.\n",
        "\n",
        "The mean calculated was 11.3~12.0, in a way that my solution was a little bit displaced. The sampling_strategy of 0.11 was the value that shifted the mean of my submission to the proper range.\n",
        "\n"
      ],
      "metadata": {
        "id": "I-5__2ydKhuz"
      }
    },
    {
      "cell_type": "code",
      "source": [
        "# When I submmited, I didn't defined a random_state.\n",
        "from imblearn.over_sampling import SMOTE\n",
        "oversample = SMOTE(sampling_strategy=0.11, random_state= 0)\n",
        "x_train, y_train = oversample.fit_resample(x_train, y_train)\n",
        "x_train=pd.DataFrame(x_train)\n"
      ],
      "metadata": {
        "id": "tBIAd8Vby5kY"
      },
      "execution_count": null,
      "outputs": []
    },
    {
      "cell_type": "markdown",
      "source": [
        "Obs: To test my theory, I made a submission to achieve the Dumb-Log Loss, using only the value I assumed to be the proportion of Loan defaulters, that is 0.1167. Before submitting, I calculated what would be the Log Loss of a submission that only contained the value of 0.1167, and got 0.3603. This solution (Sub 9) brought me a Log Loss of 0.36024, confirming my theory.\n"
      ],
      "metadata": {
        "id": "oY3gnj99k-bt"
      }
    },
    {
      "cell_type": "markdown",
      "source": [
        "# Creating and Training the Model"
      ],
      "metadata": {
        "id": "hgzVH9YN2xMb"
      }
    },
    {
      "cell_type": "markdown",
      "source": [
        "The model should be a classifier model and for that I tried several models, for instance:\n",
        "\n",
        "- RandomForestClassifier\n",
        "- KneighborsClassifier\n",
        "- Logistic Regression\n",
        "- XGBClassifier\n",
        "...\n",
        "\n",
        "In additional, I tried to use VotingClassifier with combinations of the models above.\n",
        "\n",
        "After trying all this models, the one that brought the best result in the Leaderboard was the RandomForestClassifier.\n",
        "\n"
      ],
      "metadata": {
        "id": "9UJKC-G2O-sd"
      }
    },
    {
      "cell_type": "markdown",
      "source": [
        "\n",
        "Using GridSearchCV for Hiperparameter Tuning."
      ],
      "metadata": {
        "id": "9BqSZWIAQ3Z-"
      }
    },
    {
      "cell_type": "code",
      "source": [
        "\n",
        "from sklearn.ensemble import RandomForestClassifier\n",
        "from sklearn.model_selection import GridSearchCV\n",
        "from sklearn.model_selection import StratifiedKFold\n",
        "cv = StratifiedKFold(n_splits = 5, shuffle = True)\n",
        "param_grid = {'max_depth': [3,4,5], 'max_features': ['int','float','auto','log2']} \n",
        "modelgrid= GridSearchCV(RandomForestClassifier(),param_grid,refit=True,verbose=3, cv=cv, scoring='neg_log_loss')\n",
        "modelgrid.fit(x_train,y_train)\n"
      ],
      "metadata": {
        "id": "Qi-DEz3APyIg",
        "colab": {
          "base_uri": "https://localhost:8080/"
        },
        "outputId": "de334bc3-27a2-44f8-e3f5-3570ce37e7cd"
      },
      "execution_count": null,
      "outputs": [
        {
          "output_type": "stream",
          "name": "stdout",
          "text": [
            "Fitting 5 folds for each of 12 candidates, totalling 60 fits\n",
            "[CV 1/5] END .......max_depth=3, max_features=int;, score=nan total time=   0.5s\n",
            "[CV 2/5] END .......max_depth=3, max_features=int;, score=nan total time=   0.3s\n",
            "[CV 3/5] END .......max_depth=3, max_features=int;, score=nan total time=   0.1s\n",
            "[CV 4/5] END .......max_depth=3, max_features=int;, score=nan total time=   0.2s\n",
            "[CV 5/5] END .......max_depth=3, max_features=int;, score=nan total time=   0.5s\n",
            "[CV 1/5] END .....max_depth=3, max_features=float;, score=nan total time=   0.4s\n",
            "[CV 2/5] END .....max_depth=3, max_features=float;, score=nan total time=   0.2s\n",
            "[CV 3/5] END .....max_depth=3, max_features=float;, score=nan total time=   0.1s\n",
            "[CV 4/5] END .....max_depth=3, max_features=float;, score=nan total time=   0.1s\n",
            "[CV 5/5] END .....max_depth=3, max_features=float;, score=nan total time=   0.2s\n",
            "[CV 1/5] END ...max_depth=3, max_features=auto;, score=-0.322 total time=   6.3s\n",
            "[CV 2/5] END ...max_depth=3, max_features=auto;, score=-0.323 total time=   4.5s\n",
            "[CV 3/5] END ...max_depth=3, max_features=auto;, score=-0.323 total time=   4.3s\n",
            "[CV 4/5] END ...max_depth=3, max_features=auto;, score=-0.323 total time=   4.5s\n",
            "[CV 5/5] END ...max_depth=3, max_features=auto;, score=-0.322 total time=   4.4s\n",
            "[CV 1/5] END ...max_depth=3, max_features=log2;, score=-0.322 total time=   3.9s\n",
            "[CV 2/5] END ...max_depth=3, max_features=log2;, score=-0.323 total time=   3.7s\n",
            "[CV 3/5] END ...max_depth=3, max_features=log2;, score=-0.323 total time=   3.8s\n",
            "[CV 4/5] END ...max_depth=3, max_features=log2;, score=-0.323 total time=   3.8s\n",
            "[CV 5/5] END ...max_depth=3, max_features=log2;, score=-0.322 total time=   3.7s\n",
            "[CV 1/5] END .......max_depth=4, max_features=int;, score=nan total time=   0.1s\n",
            "[CV 2/5] END .......max_depth=4, max_features=int;, score=nan total time=   0.1s\n",
            "[CV 3/5] END .......max_depth=4, max_features=int;, score=nan total time=   0.1s\n",
            "[CV 4/5] END .......max_depth=4, max_features=int;, score=nan total time=   0.1s\n",
            "[CV 5/5] END .......max_depth=4, max_features=int;, score=nan total time=   0.1s\n",
            "[CV 1/5] END .....max_depth=4, max_features=float;, score=nan total time=   0.1s\n",
            "[CV 2/5] END .....max_depth=4, max_features=float;, score=nan total time=   0.1s\n",
            "[CV 3/5] END .....max_depth=4, max_features=float;, score=nan total time=   0.1s\n",
            "[CV 4/5] END .....max_depth=4, max_features=float;, score=nan total time=   0.1s\n",
            "[CV 5/5] END .....max_depth=4, max_features=float;, score=nan total time=   0.1s\n",
            "[CV 1/5] END ...max_depth=4, max_features=auto;, score=-0.322 total time=   5.6s\n",
            "[CV 2/5] END ...max_depth=4, max_features=auto;, score=-0.323 total time=   5.7s\n",
            "[CV 3/5] END ...max_depth=4, max_features=auto;, score=-0.322 total time=   5.6s\n",
            "[CV 4/5] END ...max_depth=4, max_features=auto;, score=-0.322 total time=   5.6s\n",
            "[CV 5/5] END ...max_depth=4, max_features=auto;, score=-0.322 total time=   6.2s\n",
            "[CV 1/5] END ...max_depth=4, max_features=log2;, score=-0.322 total time=   4.7s\n",
            "[CV 2/5] END ...max_depth=4, max_features=log2;, score=-0.322 total time=   4.7s\n",
            "[CV 3/5] END ...max_depth=4, max_features=log2;, score=-0.322 total time=   4.7s\n",
            "[CV 4/5] END ...max_depth=4, max_features=log2;, score=-0.322 total time=   6.1s\n",
            "[CV 5/5] END ...max_depth=4, max_features=log2;, score=-0.322 total time=   4.7s\n",
            "[CV 1/5] END .......max_depth=5, max_features=int;, score=nan total time=   0.1s\n",
            "[CV 2/5] END .......max_depth=5, max_features=int;, score=nan total time=   0.1s\n",
            "[CV 3/5] END .......max_depth=5, max_features=int;, score=nan total time=   0.1s\n",
            "[CV 4/5] END .......max_depth=5, max_features=int;, score=nan total time=   0.1s\n",
            "[CV 5/5] END .......max_depth=5, max_features=int;, score=nan total time=   0.1s\n",
            "[CV 1/5] END .....max_depth=5, max_features=float;, score=nan total time=   0.1s\n",
            "[CV 2/5] END .....max_depth=5, max_features=float;, score=nan total time=   0.1s\n",
            "[CV 3/5] END .....max_depth=5, max_features=float;, score=nan total time=   0.1s\n",
            "[CV 4/5] END .....max_depth=5, max_features=float;, score=nan total time=   0.1s\n",
            "[CV 5/5] END .....max_depth=5, max_features=float;, score=nan total time=   0.1s\n",
            "[CV 1/5] END ...max_depth=5, max_features=auto;, score=-0.322 total time=   6.7s\n",
            "[CV 2/5] END ...max_depth=5, max_features=auto;, score=-0.322 total time=   6.9s\n",
            "[CV 3/5] END ...max_depth=5, max_features=auto;, score=-0.322 total time=   6.8s\n",
            "[CV 4/5] END ...max_depth=5, max_features=auto;, score=-0.322 total time=   6.9s\n",
            "[CV 5/5] END ...max_depth=5, max_features=auto;, score=-0.322 total time=   6.9s\n",
            "[CV 1/5] END ...max_depth=5, max_features=log2;, score=-0.322 total time=   5.6s\n",
            "[CV 2/5] END ...max_depth=5, max_features=log2;, score=-0.322 total time=   5.6s\n",
            "[CV 3/5] END ...max_depth=5, max_features=log2;, score=-0.322 total time=   5.7s\n",
            "[CV 4/5] END ...max_depth=5, max_features=log2;, score=-0.322 total time=   5.8s\n",
            "[CV 5/5] END ...max_depth=5, max_features=log2;, score=-0.322 total time=   5.8s\n"
          ]
        },
        {
          "output_type": "execute_result",
          "data": {
            "text/plain": [
              "GridSearchCV(cv=StratifiedKFold(n_splits=5, random_state=None, shuffle=True),\n",
              "             estimator=RandomForestClassifier(),\n",
              "             param_grid={'max_depth': [3, 4, 5],\n",
              "                         'max_features': ['int', 'float', 'auto', 'log2']},\n",
              "             scoring='neg_log_loss', verbose=3)"
            ]
          },
          "metadata": {},
          "execution_count": 80
        }
      ]
    },
    {
      "cell_type": "code",
      "source": [
        "# These are the best params according to GrindSearch.\n",
        "modelgrid.best_params_ "
      ],
      "metadata": {
        "id": "UydipGQMQEYu",
        "colab": {
          "base_uri": "https://localhost:8080/"
        },
        "outputId": "1883ffd9-f264-44af-cfb3-d61fcf68b742"
      },
      "execution_count": null,
      "outputs": [
        {
          "output_type": "execute_result",
          "data": {
            "text/plain": [
              "{'max_depth': 5, 'max_features': 'auto'}"
            ]
          },
          "metadata": {},
          "execution_count": 81
        }
      ]
    },
    {
      "cell_type": "code",
      "metadata": {
        "id": "bZPllHLutggV",
        "colab": {
          "base_uri": "https://localhost:8080/"
        },
        "outputId": "3880d46a-0b31-4a53-8041-6a68d1be5490"
      },
      "source": [
        "# Instantiating the model and fitting with train data.\n",
        "\n",
        "from sklearn.ensemble import RandomForestClassifier\n",
        "model=RandomForestClassifier(max_depth=5, random_state=4)\n",
        "model.fit(x_train,y_train)"
      ],
      "execution_count": null,
      "outputs": [
        {
          "output_type": "execute_result",
          "data": {
            "text/plain": [
              "RandomForestClassifier(max_depth=5, random_state=4)"
            ]
          },
          "metadata": {},
          "execution_count": 95
        }
      ]
    },
    {
      "cell_type": "markdown",
      "source": [
        "# Model Evaluation (Log Loss Metric)"
      ],
      "metadata": {
        "id": "ZIXavn8g3b9S"
      }
    },
    {
      "cell_type": "code",
      "metadata": {
        "id": "0UJ1CW_SvQ-J"
      },
      "source": [
        "#Predicting the probabilities for the train and validation dataset. Analizing both is good to see the degree of overfitting we have in the model.\n",
        "predicttrain=model.predict_proba(x_train)\n",
        "predictval=model.predict_proba(x_val)"
      ],
      "execution_count": null,
      "outputs": []
    },
    {
      "cell_type": "code",
      "metadata": {
        "id": "_oZFK0TCuP68",
        "colab": {
          "base_uri": "https://localhost:8080/"
        },
        "outputId": "f6750ed6-675a-49bb-e4ee-e597603da33c"
      },
      "source": [
        "# Importing the library containing the metric that will be used to evaluate the submission.\n",
        "from sklearn.metrics import log_loss  \n",
        "log_loss(y_train, predicttrain), log_loss(y_val, predictval)\n"
      ],
      "execution_count": null,
      "outputs": [
        {
          "output_type": "execute_result",
          "data": {
            "text/plain": [
              "(0.31869819806696115, 0.30796569357732495)"
            ]
          },
          "metadata": {},
          "execution_count": 97
        }
      ]
    },
    {
      "cell_type": "markdown",
      "source": [
        "We have already calculated the Log Loss Metric, but in a way that our validation become more robust, is advisable that we use cross validation."
      ],
      "metadata": {
        "id": "WOv9kywYSTMf"
      }
    },
    {
      "cell_type": "markdown",
      "source": [
        "As we had two transformers after sampling the data, we can use a pipeline. One of the transformers is a SMOTE oversample, so I will use the Pipeline from the imblearn library instead of the SKLearn one."
      ],
      "metadata": {
        "id": "P6_zrftJS5zA"
      }
    },
    {
      "cell_type": "code",
      "source": [
        "\n",
        "from imblearn.pipeline import Pipeline as imbpipeline\n",
        "pipe = imbpipeline([('oversample', oversample) ,('RF', model)])"
      ],
      "metadata": {
        "id": "kiyF-8xmSnHP"
      },
      "execution_count": null,
      "outputs": []
    },
    {
      "cell_type": "code",
      "source": [
        "\n",
        "from sklearn.model_selection import cross_val_score\n",
        "from sklearn.model_selection import StratifiedKFold\n",
        "cv = StratifiedKFold(n_splits = 5, shuffle = True)\n",
        "scores=cross_val_score(pipe, x,y, cv = cv, scoring='neg_log_loss')\n",
        "scores, np.mean(scores)\n"
      ],
      "metadata": {
        "id": "iozaPNQP0yrL",
        "colab": {
          "base_uri": "https://localhost:8080/"
        },
        "outputId": "6a19fe8e-e48a-4e6e-dd46-5a614c7f2b42"
      },
      "execution_count": null,
      "outputs": [
        {
          "output_type": "execute_result",
          "data": {
            "text/plain": [
              "(array([-0.30787765, -0.30798759, -0.30815773, -0.30815614, -0.30797908]),\n",
              " -0.30803163939527917)"
            ]
          },
          "metadata": {},
          "execution_count": 99
        }
      ]
    },
    {
      "cell_type": "markdown",
      "source": [
        "# Making the Submission"
      ],
      "metadata": {
        "id": "A8vwJZxD36xk"
      }
    },
    {
      "cell_type": "code",
      "metadata": {
        "id": "qO3BrTSPwAyc"
      },
      "source": [
        "# Predicting the probabilities\n",
        "predict=model.predict_proba(test)"
      ],
      "execution_count": null,
      "outputs": []
    },
    {
      "cell_type": "code",
      "metadata": {
        "id": "J7B_fOd0wGmi",
        "colab": {
          "base_uri": "https://localhost:8080/"
        },
        "outputId": "d33e8ee7-5947-4264-a95c-075554e81e87"
      },
      "source": [
        "predict"
      ],
      "execution_count": null,
      "outputs": [
        {
          "output_type": "execute_result",
          "data": {
            "text/plain": [
              "array([[0.89884045, 0.10115955],\n",
              "       [0.91394415, 0.08605585],\n",
              "       [0.90029674, 0.09970326],\n",
              "       ...,\n",
              "       [0.83151657, 0.16848343],\n",
              "       [0.83772895, 0.16227105],\n",
              "       [0.8304448 , 0.1695552 ]])"
            ]
          },
          "metadata": {},
          "execution_count": 101
        }
      ]
    },
    {
      "cell_type": "code",
      "metadata": {
        "id": "NungmurSxC5s",
        "colab": {
          "base_uri": "https://localhost:8080/",
          "height": 424
        },
        "outputId": "bf531ac6-8d21-47d5-d379-c95d88aac306"
      },
      "source": [
        "final=pd.DataFrame(predict)\n",
        "final=pd.DataFrame(final[1])\n",
        "final.columns=['Loan Status']\n",
        "final['Loan Status']=round(final['Loan Status'],6) \n",
        "final"
      ],
      "execution_count": null,
      "outputs": [
        {
          "output_type": "execute_result",
          "data": {
            "text/html": [
              "\n",
              "  <div id=\"df-ac38458b-f85e-4dbe-9044-e1a2372616a4\">\n",
              "    <div class=\"colab-df-container\">\n",
              "      <div>\n",
              "<style scoped>\n",
              "    .dataframe tbody tr th:only-of-type {\n",
              "        vertical-align: middle;\n",
              "    }\n",
              "\n",
              "    .dataframe tbody tr th {\n",
              "        vertical-align: top;\n",
              "    }\n",
              "\n",
              "    .dataframe thead th {\n",
              "        text-align: right;\n",
              "    }\n",
              "</style>\n",
              "<table border=\"1\" class=\"dataframe\">\n",
              "  <thead>\n",
              "    <tr style=\"text-align: right;\">\n",
              "      <th></th>\n",
              "      <th>Loan Status</th>\n",
              "    </tr>\n",
              "  </thead>\n",
              "  <tbody>\n",
              "    <tr>\n",
              "      <th>0</th>\n",
              "      <td>0.101160</td>\n",
              "    </tr>\n",
              "    <tr>\n",
              "      <th>1</th>\n",
              "      <td>0.086056</td>\n",
              "    </tr>\n",
              "    <tr>\n",
              "      <th>2</th>\n",
              "      <td>0.099703</td>\n",
              "    </tr>\n",
              "    <tr>\n",
              "      <th>3</th>\n",
              "      <td>0.095463</td>\n",
              "    </tr>\n",
              "    <tr>\n",
              "      <th>4</th>\n",
              "      <td>0.094190</td>\n",
              "    </tr>\n",
              "    <tr>\n",
              "      <th>...</th>\n",
              "      <td>...</td>\n",
              "    </tr>\n",
              "    <tr>\n",
              "      <th>28908</th>\n",
              "      <td>0.232307</td>\n",
              "    </tr>\n",
              "    <tr>\n",
              "      <th>28909</th>\n",
              "      <td>0.181581</td>\n",
              "    </tr>\n",
              "    <tr>\n",
              "      <th>28910</th>\n",
              "      <td>0.168483</td>\n",
              "    </tr>\n",
              "    <tr>\n",
              "      <th>28911</th>\n",
              "      <td>0.162271</td>\n",
              "    </tr>\n",
              "    <tr>\n",
              "      <th>28912</th>\n",
              "      <td>0.169555</td>\n",
              "    </tr>\n",
              "  </tbody>\n",
              "</table>\n",
              "<p>28913 rows × 1 columns</p>\n",
              "</div>\n",
              "      <button class=\"colab-df-convert\" onclick=\"convertToInteractive('df-ac38458b-f85e-4dbe-9044-e1a2372616a4')\"\n",
              "              title=\"Convert this dataframe to an interactive table.\"\n",
              "              style=\"display:none;\">\n",
              "        \n",
              "  <svg xmlns=\"http://www.w3.org/2000/svg\" height=\"24px\"viewBox=\"0 0 24 24\"\n",
              "       width=\"24px\">\n",
              "    <path d=\"M0 0h24v24H0V0z\" fill=\"none\"/>\n",
              "    <path d=\"M18.56 5.44l.94 2.06.94-2.06 2.06-.94-2.06-.94-.94-2.06-.94 2.06-2.06.94zm-11 1L8.5 8.5l.94-2.06 2.06-.94-2.06-.94L8.5 2.5l-.94 2.06-2.06.94zm10 10l.94 2.06.94-2.06 2.06-.94-2.06-.94-.94-2.06-.94 2.06-2.06.94z\"/><path d=\"M17.41 7.96l-1.37-1.37c-.4-.4-.92-.59-1.43-.59-.52 0-1.04.2-1.43.59L10.3 9.45l-7.72 7.72c-.78.78-.78 2.05 0 2.83L4 21.41c.39.39.9.59 1.41.59.51 0 1.02-.2 1.41-.59l7.78-7.78 2.81-2.81c.8-.78.8-2.07 0-2.86zM5.41 20L4 18.59l7.72-7.72 1.47 1.35L5.41 20z\"/>\n",
              "  </svg>\n",
              "      </button>\n",
              "      \n",
              "  <style>\n",
              "    .colab-df-container {\n",
              "      display:flex;\n",
              "      flex-wrap:wrap;\n",
              "      gap: 12px;\n",
              "    }\n",
              "\n",
              "    .colab-df-convert {\n",
              "      background-color: #E8F0FE;\n",
              "      border: none;\n",
              "      border-radius: 50%;\n",
              "      cursor: pointer;\n",
              "      display: none;\n",
              "      fill: #1967D2;\n",
              "      height: 32px;\n",
              "      padding: 0 0 0 0;\n",
              "      width: 32px;\n",
              "    }\n",
              "\n",
              "    .colab-df-convert:hover {\n",
              "      background-color: #E2EBFA;\n",
              "      box-shadow: 0px 1px 2px rgba(60, 64, 67, 0.3), 0px 1px 3px 1px rgba(60, 64, 67, 0.15);\n",
              "      fill: #174EA6;\n",
              "    }\n",
              "\n",
              "    [theme=dark] .colab-df-convert {\n",
              "      background-color: #3B4455;\n",
              "      fill: #D2E3FC;\n",
              "    }\n",
              "\n",
              "    [theme=dark] .colab-df-convert:hover {\n",
              "      background-color: #434B5C;\n",
              "      box-shadow: 0px 1px 3px 1px rgba(0, 0, 0, 0.15);\n",
              "      filter: drop-shadow(0px 1px 2px rgba(0, 0, 0, 0.3));\n",
              "      fill: #FFFFFF;\n",
              "    }\n",
              "  </style>\n",
              "\n",
              "      <script>\n",
              "        const buttonEl =\n",
              "          document.querySelector('#df-ac38458b-f85e-4dbe-9044-e1a2372616a4 button.colab-df-convert');\n",
              "        buttonEl.style.display =\n",
              "          google.colab.kernel.accessAllowed ? 'block' : 'none';\n",
              "\n",
              "        async function convertToInteractive(key) {\n",
              "          const element = document.querySelector('#df-ac38458b-f85e-4dbe-9044-e1a2372616a4');\n",
              "          const dataTable =\n",
              "            await google.colab.kernel.invokeFunction('convertToInteractive',\n",
              "                                                     [key], {});\n",
              "          if (!dataTable) return;\n",
              "\n",
              "          const docLinkHtml = 'Like what you see? Visit the ' +\n",
              "            '<a target=\"_blank\" href=https://colab.research.google.com/notebooks/data_table.ipynb>data table notebook</a>'\n",
              "            + ' to learn more about interactive tables.';\n",
              "          element.innerHTML = '';\n",
              "          dataTable['output_type'] = 'display_data';\n",
              "          await google.colab.output.renderOutput(dataTable, element);\n",
              "          const docLink = document.createElement('div');\n",
              "          docLink.innerHTML = docLinkHtml;\n",
              "          element.appendChild(docLink);\n",
              "        }\n",
              "      </script>\n",
              "    </div>\n",
              "  </div>\n",
              "  "
            ],
            "text/plain": [
              "       Loan Status\n",
              "0         0.101160\n",
              "1         0.086056\n",
              "2         0.099703\n",
              "3         0.095463\n",
              "4         0.094190\n",
              "...            ...\n",
              "28908     0.232307\n",
              "28909     0.181581\n",
              "28910     0.168483\n",
              "28911     0.162271\n",
              "28912     0.169555\n",
              "\n",
              "[28913 rows x 1 columns]"
            ]
          },
          "metadata": {},
          "execution_count": 102
        }
      ]
    },
    {
      "cell_type": "code",
      "metadata": {
        "id": "ZVumLSSxxGOr"
      },
      "source": [
        "final.to_csv('Felipe_Carneiro_Wanderley_submission.csv', index=False)"
      ],
      "execution_count": null,
      "outputs": []
    },
    {
      "cell_type": "markdown",
      "source": [
        "Note: The prediction generated from this notebook can be a little bit different from my winner solution. The only difference is that I haven't defined a random_state for Smote when I submmited the code."
      ],
      "metadata": {
        "id": "8gfNbiOE1WIv"
      }
    }
  ]
}
